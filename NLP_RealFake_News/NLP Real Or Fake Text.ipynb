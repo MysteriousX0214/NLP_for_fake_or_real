{
 "cells": [
  {
   "cell_type": "code",
   "execution_count": 1,
   "id": "9aba2638",
   "metadata": {},
   "outputs": [
    {
     "name": "stdout",
     "output_type": "stream",
     "text": [
      "./fake_or_real_news.csv\n",
      "./Untitled.ipynb\n",
      "./.ipynb_checkpoints\\Untitled-checkpoint.ipynb\n"
     ]
    }
   ],
   "source": [
    "import pandas as pd\n",
    "import numpy as np\n",
    "import os\n",
    "import seaborn as sns\n",
    "from sklearn.model_selection import train_test_split\n",
    "for dirname,_,filenames in os.walk('./'):\n",
    "    for filename in filenames:\n",
    "        print(os.path.join(dirname,filename))"
   ]
  },
  {
   "cell_type": "code",
   "execution_count": 2,
   "id": "8c18ebdd",
   "metadata": {},
   "outputs": [
    {
     "data": {
      "text/html": [
       "<div>\n",
       "<style scoped>\n",
       "    .dataframe tbody tr th:only-of-type {\n",
       "        vertical-align: middle;\n",
       "    }\n",
       "\n",
       "    .dataframe tbody tr th {\n",
       "        vertical-align: top;\n",
       "    }\n",
       "\n",
       "    .dataframe thead th {\n",
       "        text-align: right;\n",
       "    }\n",
       "</style>\n",
       "<table border=\"1\" class=\"dataframe\">\n",
       "  <thead>\n",
       "    <tr style=\"text-align: right;\">\n",
       "      <th></th>\n",
       "      <th>Unnamed: 0</th>\n",
       "      <th>title</th>\n",
       "      <th>text</th>\n",
       "      <th>label</th>\n",
       "    </tr>\n",
       "  </thead>\n",
       "  <tbody>\n",
       "    <tr>\n",
       "      <th>0</th>\n",
       "      <td>8476</td>\n",
       "      <td>You Can Smell Hillary’s Fear</td>\n",
       "      <td>Daniel Greenfield, a Shillman Journalism Fello...</td>\n",
       "      <td>FAKE</td>\n",
       "    </tr>\n",
       "    <tr>\n",
       "      <th>1</th>\n",
       "      <td>10294</td>\n",
       "      <td>Watch The Exact Moment Paul Ryan Committed Pol...</td>\n",
       "      <td>Google Pinterest Digg Linkedin Reddit Stumbleu...</td>\n",
       "      <td>FAKE</td>\n",
       "    </tr>\n",
       "    <tr>\n",
       "      <th>2</th>\n",
       "      <td>3608</td>\n",
       "      <td>Kerry to go to Paris in gesture of sympathy</td>\n",
       "      <td>U.S. Secretary of State John F. Kerry said Mon...</td>\n",
       "      <td>REAL</td>\n",
       "    </tr>\n",
       "    <tr>\n",
       "      <th>3</th>\n",
       "      <td>10142</td>\n",
       "      <td>Bernie supporters on Twitter erupt in anger ag...</td>\n",
       "      <td>— Kaydee King (@KaydeeKing) November 9, 2016 T...</td>\n",
       "      <td>FAKE</td>\n",
       "    </tr>\n",
       "    <tr>\n",
       "      <th>4</th>\n",
       "      <td>875</td>\n",
       "      <td>The Battle of New York: Why This Primary Matters</td>\n",
       "      <td>It's primary day in New York and front-runners...</td>\n",
       "      <td>REAL</td>\n",
       "    </tr>\n",
       "    <tr>\n",
       "      <th>...</th>\n",
       "      <td>...</td>\n",
       "      <td>...</td>\n",
       "      <td>...</td>\n",
       "      <td>...</td>\n",
       "    </tr>\n",
       "    <tr>\n",
       "      <th>6330</th>\n",
       "      <td>4490</td>\n",
       "      <td>State Department says it can't find emails fro...</td>\n",
       "      <td>The State Department told the Republican Natio...</td>\n",
       "      <td>REAL</td>\n",
       "    </tr>\n",
       "    <tr>\n",
       "      <th>6331</th>\n",
       "      <td>8062</td>\n",
       "      <td>The ‘P’ in PBS Should Stand for ‘Plutocratic’ ...</td>\n",
       "      <td>The ‘P’ in PBS Should Stand for ‘Plutocratic’ ...</td>\n",
       "      <td>FAKE</td>\n",
       "    </tr>\n",
       "    <tr>\n",
       "      <th>6332</th>\n",
       "      <td>8622</td>\n",
       "      <td>Anti-Trump Protesters Are Tools of the Oligarc...</td>\n",
       "      <td>Anti-Trump Protesters Are Tools of the Oligar...</td>\n",
       "      <td>FAKE</td>\n",
       "    </tr>\n",
       "    <tr>\n",
       "      <th>6333</th>\n",
       "      <td>4021</td>\n",
       "      <td>In Ethiopia, Obama seeks progress on peace, se...</td>\n",
       "      <td>ADDIS ABABA, Ethiopia —President Obama convene...</td>\n",
       "      <td>REAL</td>\n",
       "    </tr>\n",
       "    <tr>\n",
       "      <th>6334</th>\n",
       "      <td>4330</td>\n",
       "      <td>Jeb Bush Is Suddenly Attacking Trump. Here's W...</td>\n",
       "      <td>Jeb Bush Is Suddenly Attacking Trump. Here's W...</td>\n",
       "      <td>REAL</td>\n",
       "    </tr>\n",
       "  </tbody>\n",
       "</table>\n",
       "<p>6335 rows × 4 columns</p>\n",
       "</div>"
      ],
      "text/plain": [
       "      Unnamed: 0                                              title  \\\n",
       "0           8476                       You Can Smell Hillary’s Fear   \n",
       "1          10294  Watch The Exact Moment Paul Ryan Committed Pol...   \n",
       "2           3608        Kerry to go to Paris in gesture of sympathy   \n",
       "3          10142  Bernie supporters on Twitter erupt in anger ag...   \n",
       "4            875   The Battle of New York: Why This Primary Matters   \n",
       "...          ...                                                ...   \n",
       "6330        4490  State Department says it can't find emails fro...   \n",
       "6331        8062  The ‘P’ in PBS Should Stand for ‘Plutocratic’ ...   \n",
       "6332        8622  Anti-Trump Protesters Are Tools of the Oligarc...   \n",
       "6333        4021  In Ethiopia, Obama seeks progress on peace, se...   \n",
       "6334        4330  Jeb Bush Is Suddenly Attacking Trump. Here's W...   \n",
       "\n",
       "                                                   text label  \n",
       "0     Daniel Greenfield, a Shillman Journalism Fello...  FAKE  \n",
       "1     Google Pinterest Digg Linkedin Reddit Stumbleu...  FAKE  \n",
       "2     U.S. Secretary of State John F. Kerry said Mon...  REAL  \n",
       "3     — Kaydee King (@KaydeeKing) November 9, 2016 T...  FAKE  \n",
       "4     It's primary day in New York and front-runners...  REAL  \n",
       "...                                                 ...   ...  \n",
       "6330  The State Department told the Republican Natio...  REAL  \n",
       "6331  The ‘P’ in PBS Should Stand for ‘Plutocratic’ ...  FAKE  \n",
       "6332   Anti-Trump Protesters Are Tools of the Oligar...  FAKE  \n",
       "6333  ADDIS ABABA, Ethiopia —President Obama convene...  REAL  \n",
       "6334  Jeb Bush Is Suddenly Attacking Trump. Here's W...  REAL  \n",
       "\n",
       "[6335 rows x 4 columns]"
      ]
     },
     "execution_count": 2,
     "metadata": {},
     "output_type": "execute_result"
    }
   ],
   "source": [
    "df=pd.read_csv('./fake_or_real_news.csv')\n",
    "df"
   ]
  },
  {
   "cell_type": "code",
   "execution_count": 3,
   "id": "bf9c9962",
   "metadata": {},
   "outputs": [
    {
     "data": {
      "text/plain": [
       "<AxesSubplot:xlabel='label', ylabel='count'>"
      ]
     },
     "execution_count": 3,
     "metadata": {},
     "output_type": "execute_result"
    },
    {
     "data": {
      "image/png": "[encoded data removed]",
      "text/plain": [
       "<Figure size 432x288 with 1 Axes>"
      ]
     },
     "metadata": {
      "needs_background": "light"
     },
     "output_type": "display_data"
    }
   ],
   "source": [
    "def create_distribution(dataFile):\n",
    "    return sns.countplot(x='label',data=dataFile,palette='dark')\n",
    "create_distribution(df)"
   ]
  },
  {
   "cell_type": "code",
   "execution_count": 4,
   "id": "89335237",
   "metadata": {},
   "outputs": [
    {
     "name": "stdout",
     "output_type": "stream",
     "text": [
      "checking data qualities...\n",
      "<class 'pandas.core.frame.DataFrame'>\n",
      "RangeIndex: 6335 entries, 0 to 6334\n",
      "Data columns (total 4 columns):\n",
      " #   Column      Non-Null Count  Dtype \n",
      "---  ------      --------------  ----- \n",
      " 0   Unnamed: 0  6335 non-null   int64 \n",
      " 1   title       6335 non-null   object\n",
      " 2   text        6335 non-null   object\n",
      " 3   label       6335 non-null   object\n",
      "dtypes: int64(1), object(3)\n",
      "memory usage: 198.1+ KB\n",
      "check finished.\n"
     ]
    }
   ],
   "source": [
    "def data_qualityCheck():\n",
    "    print('checking data qualities...')\n",
    "    df.isnull().sum()\n",
    "    df.info()\n",
    "    print('check finished.')\n",
    "data_qualityCheck()"
   ]
  },
  {
   "cell_type": "code",
   "execution_count": 5,
   "id": "7f65d701",
   "metadata": {},
   "outputs": [],
   "source": [
    "x=df['text']\n",
    "y=df['label']\n",
    "#x.head(3),y.head(3)"
   ]
  },
  {
   "cell_type": "code",
   "execution_count": 6,
   "id": "cd2c7511",
   "metadata": {},
   "outputs": [],
   "source": [
    "x_train,x_test,y_train,y_test=train_test_split(x,y,test_size=0.2)"
   ]
  },
  {
   "cell_type": "code",
   "execution_count": 7,
   "id": "68c47cb4",
   "metadata": {},
   "outputs": [],
   "source": [
    "from sklearn.feature_extraction.text import CountVectorizer\n",
    "count_vectorizer=CountVectorizer(stop_words='english')\n",
    "from sklearn.feature_extraction.text import TfidfVectorizer"
   ]
  },
  {
   "cell_type": "code",
   "execution_count": 8,
   "id": "015d6c0a",
   "metadata": {},
   "outputs": [],
   "source": [
    "count_train=count_vectorizer.fit_transform(x_train)"
   ]
  },
  {
   "cell_type": "code",
   "execution_count": 9,
   "id": "8e185afa",
   "metadata": {},
   "outputs": [
    {
     "data": {
      "text/plain": [
       "(5068, 61647)"
      ]
     },
     "execution_count": 9,
     "metadata": {},
     "output_type": "execute_result"
    }
   ],
   "source": [
    "count_train.shape"
   ]
  },
  {
   "cell_type": "code",
   "execution_count": 10,
   "id": "34121d61",
   "metadata": {},
   "outputs": [
    {
     "data": {
      "text/plain": [
       "{'washington': 59183,\n",
       " 'president': 42759,\n",
       " 'barack': 6199,\n",
       " 'obama': 38416,\n",
       " 'trade': 55526,\n",
       " 'agenda': 2974,\n",
       " 'cleared': 11330,\n",
       " 'key': 30520,\n",
       " 'senate': 48937,\n",
       " 'hurdle': 26790,\n",
       " 'final': 21129,\n",
       " 'vote': 58800,\n",
       " 'topped': 55317,\n",
       " '60': 1473,\n",
       " 'votes': 58809,\n",
       " 'needed': 37286,\n",
       " 'begin': 6727,\n",
       " 'substantive': 52802,\n",
       " 'action': 2486,\n",
       " 'bid': 7211,\n",
       " 'fast': 20582,\n",
       " 'track': 55510,\n",
       " 'negotiating': 37333,\n",
       " 'authority': 5510,\n",
       " '62': 1501,\n",
       " '38': 1125,\n",
       " 'says': 48121,\n",
       " 'improve': 27500,\n",
       " 'prospects': 43331,\n",
       " 'treaty': 55806,\n",
       " '11': 182,\n",
       " 'pacific': 39820,\n",
       " 'rim': 46678,\n",
       " 'nations': 37129,\n",
       " 'labor': 31294,\n",
       " 'unions': 57203,\n",
       " 'groups': 24266,\n",
       " 'vital': 58660,\n",
       " 'democrats': 15283,\n",
       " 'strongly': 52577,\n",
       " 'oppose': 39033,\n",
       " 'say': 48113,\n",
       " 'free': 22189,\n",
       " 'deals': 14677,\n",
       " 'cost': 13258,\n",
       " 'jobs': 29713,\n",
       " 'producers': 43048,\n",
       " 'need': 37285,\n",
       " 'broader': 8690,\n",
       " 'access': 2293,\n",
       " 'foreign': 21834,\n",
       " 'markets': 33999,\n",
       " 'exclusive': 19794,\n",
       " '28': 915,\n",
       " '500': 1323,\n",
       " 'deposit': 15504,\n",
       " 'syed': 53524,\n",
       " 'farook': 20548,\n",
       " 'bank': 6156,\n",
       " 'account': 2349,\n",
       " 'webbank': 59367,\n",
       " 'com': 11919,\n",
       " 'nov': 38161,\n",
       " '18': 425,\n",
       " 'weeks': 59411,\n",
       " 'wife': 59808,\n",
       " 'tashfeen': 53986,\n",
       " 'malik': 33628,\n",
       " 'carried': 9863,\n",
       " 'san': 47828,\n",
       " 'bernardino': 7029,\n",
       " 'massacre': 34175,\n",
       " 'source': 51153,\n",
       " 'close': 11481,\n",
       " 'investigation': 28810,\n",
       " 'told': 55212,\n",
       " 'fox': 22034,\n",
       " 'news': 37540,\n",
       " 'monday': 36027,\n",
       " 'investigators': 28814,\n",
       " 'exploring': 20028,\n",
       " 'transaction': 55613,\n",
       " 'loan': 32679,\n",
       " 'taken': 53770,\n",
       " 'killed': 30693,\n",
       " '14': 296,\n",
       " 'wounded': 60346,\n",
       " '21': 758,\n",
       " 'opened': 38970,\n",
       " 'holiday': 26186,\n",
       " 'lunch': 33129,\n",
       " 'earned': 17882,\n",
       " '53': 1372,\n",
       " '000': 1,\n",
       " 'year': 60692,\n",
       " 'county': 13395,\n",
       " 'environmental': 19060,\n",
       " 'health': 25360,\n",
       " 'inspector': 28310,\n",
       " 'possibility': 42293,\n",
       " 'subsequent': 52773,\n",
       " 'cash': 9925,\n",
       " 'withdrawal': 60062,\n",
       " 'used': 57794,\n",
       " 'reimburse': 45480,\n",
       " 'enrique': 18936,\n",
       " 'marquez': 34036,\n",
       " 'man': 33681,\n",
       " 'bought': 8213,\n",
       " 'ar': 4540,\n",
       " '15': 324,\n",
       " 'semiautomatic': 48919,\n",
       " 'rifles': 46629,\n",
       " 'shootings': 49664,\n",
       " 'charged': 10525,\n",
       " 'especially': 19363,\n",
       " 'determined': 15779,\n",
       " 'illegally': 27174,\n",
       " 'modified': 35904,\n",
       " 'weapons': 59334,\n",
       " 'reportedly': 45904,\n",
       " 'answering': 4121,\n",
       " 'questions': 44027,\n",
       " 'right': 46637,\n",
       " 'major': 33542,\n",
       " 'concern': 12316,\n",
       " 'fbi': 20697,\n",
       " 'atf': 5238,\n",
       " 'jttf': 29898,\n",
       " 'joint': 29764,\n",
       " 'terrorism': 54420,\n",
       " 'task': 53987,\n",
       " 'force': 21791,\n",
       " 'determining': 15781,\n",
       " 'firearms': 21211,\n",
       " 'particular': 40299,\n",
       " 'got': 23810,\n",
       " 'assistant': 5128,\n",
       " 'special': 51300,\n",
       " 'agent': 2976,\n",
       " 'charge': 10524,\n",
       " 'bureau': 9060,\n",
       " 'alcohol': 3295,\n",
       " 'tobacco': 55155,\n",
       " 'john': 29738,\n",
       " 'angelo': 3964,\n",
       " 'reporters': 45906,\n",
       " 'california': 9418,\n",
       " 'came': 9472,\n",
       " 'utah': 57862,\n",
       " 'based': 6371,\n",
       " 'describes': 15617,\n",
       " 'leading': 31798,\n",
       " 'provider': 43421,\n",
       " 'national': 37110,\n",
       " 'consumer': 12756,\n",
       " 'commercial': 12038,\n",
       " 'private': 42957,\n",
       " 'label': 31286,\n",
       " 'card': 9733,\n",
       " 'financing': 21152,\n",
       " 'programs': 43128,\n",
       " 'nationwide': 37130,\n",
       " 'basis': 6408,\n",
       " '20': 676,\n",
       " 'converted': 12956,\n",
       " '10': 116,\n",
       " 'withdrew': 60067,\n",
       " 'money': 36044,\n",
       " 'union': 57196,\n",
       " 'branch': 8386,\n",
       " 'days': 14605,\n",
       " 'shooting': 49663,\n",
       " 'transfers': 55640,\n",
       " 'appear': 4387,\n",
       " 'mother': 36325,\n",
       " 'large': 31557,\n",
       " 'described': 15616,\n",
       " 'significant': 49990,\n",
       " 'evidence': 19637,\n",
       " 'pre': 42500,\n",
       " 'meditation': 34682,\n",
       " 'undercut': 56827,\n",
       " 'premise': 42656,\n",
       " 'argument': 4672,\n",
       " 'christmas': 10968,\n",
       " 'party': 40332,\n",
       " 'dec': 14745,\n",
       " 'led': 31885,\n",
       " 'conference': 12417,\n",
       " 'authorities': 5509,\n",
       " 'said': 47656,\n",
       " 'legally': 31943,\n",
       " 'purchased': 43708,\n",
       " '2007': 689,\n",
       " '2012': 699,\n",
       " 'authorized': 5515,\n",
       " 'speak': 51283,\n",
       " 'record': 45035,\n",
       " 'federal': 20761,\n",
       " 'suv': 53327,\n",
       " 'rental': 45804,\n",
       " 'processing': 43015,\n",
       " '30': 978,\n",
       " 'contacted': 12768,\n",
       " 'woman': 60171,\n",
       " 'identified': 27040,\n",
       " 'employee': 18638,\n",
       " 'lorie': 32902,\n",
       " 'gilbert': 23326,\n",
       " 'member': 34802,\n",
       " 'strategic': 52444,\n",
       " 'partnership': 40325,\n",
       " 'going': 23669,\n",
       " 'respond': 46154,\n",
       " 'hanging': 24914,\n",
       " 'talking': 53815,\n",
       " 'press': 42770,\n",
       " 'spokesman': 51514,\n",
       " 'david': 14560,\n",
       " 'weidman': 59428,\n",
       " 'declined': 14842,\n",
       " 'comment': 12026,\n",
       " 'specific': 51316,\n",
       " 'including': 27645,\n",
       " 'triggered': 55921,\n",
       " 'reporting': 45907,\n",
       " 'requirements': 46001,\n",
       " 'confirmed': 12458,\n",
       " 'working': 60271,\n",
       " 'adding': 2581,\n",
       " 'cooperating': 13016,\n",
       " 'extent': 20091,\n",
       " 'law': 31710,\n",
       " 'agencies': 2972,\n",
       " 'conducting': 12401,\n",
       " 'investigations': 28811,\n",
       " 'tragedy': 55557,\n",
       " 'immediate': 27278,\n",
       " 'response': 46162,\n",
       " 'lawyer': 31736,\n",
       " 'chesley': 10739,\n",
       " 'representing': 45928,\n",
       " 'family': 20458,\n",
       " 'catherine': 10047,\n",
       " 'herridge': 25730,\n",
       " 'award': 5647,\n",
       " 'winning': 59980,\n",
       " 'chief': 10792,\n",
       " 'intelligence': 28448,\n",
       " 'correspondent': 13188,\n",
       " 'channel': 10471,\n",
       " 'fnc': 21648,\n",
       " 'covers': 13453,\n",
       " 'justice': 30031,\n",
       " 'department': 15443,\n",
       " 'homeland': 26246,\n",
       " 'security': 48772,\n",
       " 'joined': 29761,\n",
       " '1996': 639,\n",
       " 'london': 32808,\n",
       " 'bni': 7827,\n",
       " 'store': 52354,\n",
       " '2016': 706,\n",
       " 'losing': 32917,\n",
       " 'control': 12912,\n",
       " 'streets': 52491,\n",
       " 'police': 41991,\n",
       " 'angela': 3959,\n",
       " 'merkel': 34953,\n",
       " 'germany': 23174,\n",
       " 'descends': 15613,\n",
       " 'chaos': 10484,\n",
       " 'lawlessness': 31719,\n",
       " 'german': 23167,\n",
       " 'chancellor': 10450,\n",
       " 'facing': 20283,\n",
       " 'catastrophe': 10009,\n",
       " 'failed': 20338,\n",
       " 'mass': 34173,\n",
       " 'muslim': 36752,\n",
       " 'migration': 35272,\n",
       " 'policy': 42004,\n",
       " 'according': 2344,\n",
       " 'new': 37519,\n",
       " 'report': 45901,\n",
       " 'hit': 26038,\n",
       " 'tidal': 54936,\n",
       " 'wave': 59261,\n",
       " 'horrendous': 26444,\n",
       " 'violent': 58584,\n",
       " 'crime': 13701,\n",
       " 'rapes': 44491,\n",
       " 'sexual': 49186,\n",
       " 'physical': 41297,\n",
       " 'assaults': 5072,\n",
       " 'stabbings': 51754,\n",
       " 'home': 26235,\n",
       " 'invasions': 28780,\n",
       " 'robberies': 46865,\n",
       " 'burglaries': 9078,\n",
       " 'drug': 17499,\n",
       " 'trafficking': 55553,\n",
       " 'mention': 34881,\n",
       " 'islamic': 29047,\n",
       " 'terrorist': 54421,\n",
       " 'attacks': 5323,\n",
       " 'uk': 56535,\n",
       " 'express': 20058,\n",
       " 'country': 13390,\n",
       " 'woes': 60147,\n",
       " 'fact': 20287,\n",
       " 'thousands': 54794,\n",
       " 'people': 40800,\n",
       " 'gone': 23715,\n",
       " 'missing': 35685,\n",
       " 'travelling': 55757,\n",
       " 'invitation': 28836,\n",
       " 'anegla': 3951,\n",
       " 'took': 55287,\n",
       " '1million': 662,\n",
       " 'migrants': 35268,\n",
       " 'past': 40382,\n",
       " 'parts': 40329,\n",
       " 'crippled': 13732,\n",
       " 'lack': 31324,\n",
       " 'infrastructure': 28053,\n",
       " 'true': 56071,\n",
       " 'reality': 44741,\n",
       " 'hitting': 26060,\n",
       " 'ahead': 3069,\n",
       " 'elections': 18298,\n",
       " 'far': 20504,\n",
       " 'surges': 53213,\n",
       " 'polls': 42063,\n",
       " 'threatening': 54811,\n",
       " 'topple': 55319,\n",
       " 'christian': 10956,\n",
       " 'democratic': 15274,\n",
       " 'cdu': 10170,\n",
       " 'leader': 31792,\n",
       " 'mrs': 36481,\n",
       " 'international': 28583,\n",
       " 'council': 13306,\n",
       " 'gatestone': 22897,\n",
       " 'institute': 28359,\n",
       " 'local': 32704,\n",
       " 'admit': 2697,\n",
       " 'stretched': 52511,\n",
       " 'limit': 32422,\n",
       " 'despite': 15691,\n",
       " 'mayhem': 34370,\n",
       " 'caused': 10093,\n",
       " 'skyrocketing': 50359,\n",
       " 'terror': 54418,\n",
       " 'officials': 38710,\n",
       " 'insist': 28291,\n",
       " 'blaming': 7535,\n",
       " 'unrest': 57432,\n",
       " 'rise': 46721,\n",
       " 'extremists': 20158,\n",
       " 'aka': 3204,\n",
       " 'patriots': 40483,\n",
       " 'states': 51972,\n",
       " 'rape': 44486,\n",
       " 'old': 38805,\n",
       " 'girl': 23382,\n",
       " 'leipzig': 32004,\n",
       " 'largest': 31564,\n",
       " 'city': 11168,\n",
       " 'saxony': 48111,\n",
       " 'drawn': 17380,\n",
       " 'renewed': 45783,\n",
       " 'attention': 5345,\n",
       " 'spiralling': 51453,\n",
       " 'levels': 32146,\n",
       " 'perpetrated': 40946,\n",
       " 'cities': 11156,\n",
       " 'towns': 55467,\n",
       " 'entered': 18976,\n",
       " 'asylum': 5220,\n",
       " 'seekers': 48801,\n",
       " 'refugees': 45334,\n",
       " 'presumably': 42793,\n",
       " 'economic': 18003,\n",
       " 'false': 20428,\n",
       " 'pretences': 42804,\n",
       " 'thought': 54786,\n",
       " 'engaging': 18848,\n",
       " 'robbery': 46867,\n",
       " 'criminal': 13708,\n",
       " 'violence': 58583,\n",
       " 'freddi': 22176,\n",
       " 'lohse': 32790,\n",
       " 'hamburg': 24802,\n",
       " 'migrant': 35267,\n",
       " 'offenders': 38681,\n",
       " 'view': 58481,\n",
       " 'leniency': 32050,\n",
       " 'green': 24069,\n",
       " 'light': 32345,\n",
       " 'continue': 12842,\n",
       " 'delinquent': 15189,\n",
       " 'behaviour': 6752,\n",
       " 'tougher': 55428,\n",
       " 'consequences': 12617,\n",
       " 'countries': 13389,\n",
       " 'respect': 46138,\n",
       " 'refugee': 45333,\n",
       " 'disaster': 16294,\n",
       " 'created': 13609,\n",
       " 'unsettled': 57479,\n",
       " 'europe': 19535,\n",
       " 'returning': 46337,\n",
       " 'nationalism': 37114,\n",
       " 'nightmare': 37707,\n",
       " 'liberal': 32227,\n",
       " 'leaders': 31795,\n",
       " 'world': 60290,\n",
       " 'order': 39131,\n",
       " 'months': 36145,\n",
       " 'committed': 12063,\n",
       " '142': 303,\n",
       " 'crimes': 13705,\n",
       " 'office': 38700,\n",
       " 'equivalent': 19189,\n",
       " '780': 1678,\n",
       " 'day': 14594,\n",
       " 'increase': 27704,\n",
       " 'nearly': 37258,\n",
       " '40': 1170,\n",
       " 'cent': 10256,\n",
       " '2015': 704,\n",
       " 'data': 14527,\n",
       " 'includes': 27644,\n",
       " 'suspect': 53292,\n",
       " 'caught': 10081,\n",
       " '208': 745,\n",
       " '344': 1066,\n",
       " 'confidential': 12439,\n",
       " 'leaked': 31814,\n",
       " 'bild': 7269,\n",
       " 'figure': 21071,\n",
       " 'represents': 45929,\n",
       " '80': 1727,\n",
       " '2014': 703,\n",
       " '570': 1414,\n",
       " '23': 825,\n",
       " 'hour': 26536,\n",
       " '70': 1581,\n",
       " 'respondents': 46157,\n",
       " 'fear': 20720,\n",
       " 'lives': 32624,\n",
       " 'property': 43257,\n",
       " 'train': 55571,\n",
       " 'stations': 51995,\n",
       " 'subways': 52847,\n",
       " '63': 1508,\n",
       " 'feel': 20793,\n",
       " 'unsafe': 57450,\n",
       " 'public': 43547,\n",
       " 'events': 19597,\n",
       " 'added': 2572,\n",
       " 'growing': 24277,\n",
       " 'sense': 48972,\n",
       " 'substantiated': 52799,\n",
       " 'october': 38628,\n",
       " '24': 840,\n",
       " 'yougov': 60826,\n",
       " 'poll': 42047,\n",
       " '68': 1548,\n",
       " 'germans': 23172,\n",
       " 'believe': 6818,\n",
       " 'deteriorated': 15771,\n",
       " 'years': 60700,\n",
       " 'taking': 53783,\n",
       " 'weekly': 59408,\n",
       " 'protests': 43381,\n",
       " 'invasion': 28779,\n",
       " 'started': 51935,\n",
       " 'soros': 51100,\n",
       " 'clinton': 11427,\n",
       " 'arab': 4542,\n",
       " 'spring': 51597,\n",
       " 'aided': 3098,\n",
       " 'abetted': 2096,\n",
       " 'female': 20852,\n",
       " 'officer': 38703,\n",
       " 'admitted': 2700,\n",
       " 'officers': 38704,\n",
       " 'attack': 5318,\n",
       " 'courts': 13431,\n",
       " 'joke': 29769,\n",
       " 'book': 8051,\n",
       " 'tania': 53882,\n",
       " 'kambouri': 30171,\n",
       " 'noticed': 38125,\n",
       " 'muslims': 36753,\n",
       " 'young': 60829,\n",
       " 'men': 34837,\n",
       " 'minimum': 35459,\n",
       " 'level': 32140,\n",
       " 'patrolling': 40487,\n",
       " 'verbally': 58277,\n",
       " 'abused': 2235,\n",
       " 'body': 7882,\n",
       " 'language': 31498,\n",
       " 'insults': 28402,\n",
       " 'like': 32375,\n",
       " 'cop': 13033,\n",
       " 'passing': 40365,\n",
       " 'make': 33552,\n",
       " 'traffic': 55549,\n",
       " 'stop': 52336,\n",
       " 'aggression': 2995,\n",
       " 'increases': 27706,\n",
       " 'overwhelmingly': 39733,\n",
       " 'case': 9919,\n",
       " 'files': 21088,\n",
       " 'hurt': 26807,\n",
       " 'physically': 41299,\n",
       " 'insult': 28398,\n",
       " 'cases': 9922,\n",
       " 'closed': 11482,\n",
       " 'released': 45602,\n",
       " 'probation': 42990,\n",
       " 'yes': 60740,\n",
       " 'happening': 24954,\n",
       " 'today': 55171,\n",
       " 'construction': 12730,\n",
       " 'small': 50584,\n",
       " 'mosque': 36310,\n",
       " 'state': 51960,\n",
       " 'thuringia': 54893,\n",
       " 'controversy': 12924,\n",
       " 'alternative': 3568,\n",
       " 'labeled': 31287,\n",
       " 'land': 31445,\n",
       " 'grab': 23875,\n",
       " 'project': 43150,\n",
       " 'announced': 4063,\n",
       " 'massive': 34190,\n",
       " 'anti': 4167,\n",
       " 'islam': 29044,\n",
       " 'rally': 44368,\n",
       " 'sure': 53193,\n",
       " 'point': 41937,\n",
       " 'republican': 45966,\n",
       " 'ceded': 10188,\n",
       " 'business': 9161,\n",
       " 'governance': 23837,\n",
       " 'maybe': 34362,\n",
       " 'began': 6717,\n",
       " 'tea': 54093,\n",
       " 'movement': 36433,\n",
       " 'larger': 31560,\n",
       " 'conservative': 12626,\n",
       " 'media': 34637,\n",
       " 'industrial': 27869,\n",
       " 'complex': 12198,\n",
       " 'honestly': 26315,\n",
       " 'don': 17076,\n",
       " 'know': 30938,\n",
       " 'clear': 11326,\n",
       " 'gop': 23764,\n",
       " 'longer': 32819,\n",
       " 'legitimate': 31969,\n",
       " 'governing': 23841,\n",
       " 'allows': 3490,\n",
       " 'rank': 44459,\n",
       " 'neophytes': 37398,\n",
       " 'herman': 25701,\n",
       " 'cain': 9357,\n",
       " 'donald': 17078,\n",
       " 'trump': 56086,\n",
       " 'ben': 6887,\n",
       " 'carson': 9876,\n",
       " 'carly': 9804,\n",
       " 'fiorina': 21204,\n",
       " 'run': 47396,\n",
       " 'highest': 25857,\n",
       " 'lost': 32921,\n",
       " 'way': 59274,\n",
       " 'look': 32837,\n",
       " 'operates': 38985,\n",
       " 'hard': 24994,\n",
       " 'avoid': 5620,\n",
       " 'conclusion': 12338,\n",
       " 'just': 30029,\n",
       " 'isn': 29077,\n",
       " 'priority': 42941,\n",
       " 'internal': 28578,\n",
       " 'pressures': 42783,\n",
       " 'impossible': 27458,\n",
       " 'instead': 28342,\n",
       " 'previously': 42847,\n",
       " 'called': 9430,\n",
       " 'self': 48875,\n",
       " 'perpetuating': 40955,\n",
       " 'hype': 26886,\n",
       " 'machine': 33297,\n",
       " 'political': 42019,\n",
       " 'entrepreneurs': 19038,\n",
       " 'particularly': 40304,\n",
       " 'candidates': 9559,\n",
       " 'legislators': 31964,\n",
       " 'compromise': 12256,\n",
       " 'policymaking': 42007,\n",
       " 'expect': 19932,\n",
       " 'purists': 43729,\n",
       " 'bad': 5885,\n",
       " 'great': 24052,\n",
       " 'celebrities': 10211,\n",
       " 'looking': 32840,\n",
       " 'promote': 43197,\n",
       " 'personal': 40998,\n",
       " 'brands': 8402,\n",
       " 'ted': 54167,\n",
       " 'cruz': 13935,\n",
       " 'recent': 44916,\n",
       " 'obvious': 38569,\n",
       " 'example': 19721,\n",
       " 'approach': 4475,\n",
       " 'politics': 42036,\n",
       " 'remarkably': 45683,\n",
       " 'ineffective': 27891,\n",
       " 'senator': 48938,\n",
       " 'bloviate': 7740,\n",
       " 'showboat': 49748,\n",
       " 'floor': 21537,\n",
       " 'accomplished': 2334,\n",
       " 'zero': 61061,\n",
       " 'legislatively': 31962,\n",
       " 'practical': 42438,\n",
       " 'contribution': 12902,\n",
       " 'obstruct': 38550,\n",
       " 'draw': 17369,\n",
       " 'martyrdom': 34097,\n",
       " 'read': 44693,\n",
       " 'presidential': 42761,\n",
       " 'campaign': 9493,\n",
       " 'elected': 18290,\n",
       " 'manages': 33692,\n",
       " 'win': 59917,\n",
       " 'nomination': 37890,\n",
       " 'll': 32649,\n",
       " 'lose': 32913,\n",
       " 'landslide': 31481,\n",
       " 'democrat': 15273,\n",
       " 'happens': 24956,\n",
       " 'eagerly': 17853,\n",
       " 'spectacle': 51331,\n",
       " 'alienated': 3384,\n",
       " 'tiniest': 55054,\n",
       " 'segment': 48820,\n",
       " 'means': 34585,\n",
       " 'capital': 9650,\n",
       " 'congress': 12534,\n",
       " 'hardly': 25012,\n",
       " 'uninterested': 57190,\n",
       " 'legislating': 31958,\n",
       " 'latest': 31622,\n",
       " 'squabble': 51649,\n",
       " 'rand': 44432,\n",
       " 'paul': 40514,\n",
       " 'helps': 25602,\n",
       " 'illustrate': 27205,\n",
       " 'intentions': 28480,\n",
       " 'interview': 28662,\n",
       " 'brian': 8560,\n",
       " 'kilmeade': 30704,\n",
       " 'basically': 6398,\n",
       " 'wrote': 60453,\n",
       " 'obituary': 38454,\n",
       " 'chosen': 10931,\n",
       " 'really': 44751,\n",
       " 'dishonest': 16479,\n",
       " 'leadership': 31796,\n",
       " 'names': 36988,\n",
       " 'goes': 23651,\n",
       " 'decorum': 14882,\n",
       " 'rules': 47367,\n",
       " 'consequence': 12616,\n",
       " 'pretty': 42822,\n",
       " 'stifled': 52220,\n",
       " 'relationships': 45585,\n",
       " 'problem': 42998,\n",
       " 'things': 54718,\n",
       " 'little': 32599,\n",
       " 'different': 16063,\n",
       " 'hardcore': 24998,\n",
       " 'saying': 48120,\n",
       " 'doing': 17010,\n",
       " 'chose': 10930,\n",
       " 'liars': 32218,\n",
       " 'matter': 34277,\n",
       " 'perspectives': 41016,\n",
       " 'best': 7072,\n",
       " 'end': 18745,\n",
       " 'result': 46217,\n",
       " 'course': 13415,\n",
       " 'omits': 38881,\n",
       " 'essential': 19388,\n",
       " 'design': 15644,\n",
       " 'managing': 33693,\n",
       " 'respecting': 46145,\n",
       " 'trying': 56173,\n",
       " 'accomplish': 2333,\n",
       " 'fanatical': 20466,\n",
       " 'wing': 59953,\n",
       " 'house': 26540,\n",
       " 'likelihood': 32381,\n",
       " 'retire': 46283,\n",
       " 'single': 50127,\n",
       " 'term': 54368,\n",
       " 'boosted': 8095,\n",
       " 'profile': 43089,\n",
       " 'endeared': 18753,\n",
       " 'insurgent': 28414,\n",
       " 'elements': 18347,\n",
       " 'base': 6369,\n",
       " 'pivot': 41576,\n",
       " 'sector': 48753,\n",
       " 'professional': 43072,\n",
       " 'activist': 2501,\n",
       " 'jim': 29647,\n",
       " 'demint': 15260,\n",
       " 'did': 16030,\n",
       " 'ought': 39343,\n",
       " 'seen': 48807,\n",
       " 'grifter': 24155,\n",
       " 'leaves': 31861,\n",
       " 'hero': 25715,\n",
       " 'fringe': 22325,\n",
       " 'fortune': 21977,\n",
       " 'lecture': 31878,\n",
       " 'circuit': 11110,\n",
       " 'telling': 54257,\n",
       " 'rapturous': 44514,\n",
       " 'audiences': 5414,\n",
       " 'willingness': 59888,\n",
       " 'challenge': 10420,\n",
       " 'cartel': 9883,\n",
       " 'won': 60184,\n",
       " 'changed': 10461,\n",
       " 'pretended': 42806,\n",
       " 'politicians': 42024,\n",
       " 'huckabee': 26643,\n",
       " 'jindal': 29658,\n",
       " 'activism': 2500,\n",
       " 'ensure': 18963,\n",
       " 'profitable': 43096,\n",
       " 'career': 9757,\n",
       " 'assume': 5148,\n",
       " 'share': 49358,\n",
       " 'kind': 30731,\n",
       " 'faux': 20650,\n",
       " 'exploitation': 20014,\n",
       " 'standardized': 51865,\n",
       " 'tests': 54470,\n",
       " 'common': 12072,\n",
       " 'core': 13090,\n",
       " 'standards': 51866,\n",
       " 'tuesday': 56224,\n",
       " 'ohio': 38760,\n",
       " 'requiring': 46003,\n",
       " 'hours': 26539,\n",
       " 'test': 54449,\n",
       " 'time': 55008,\n",
       " 'kids': 30663,\n",
       " 'computer': 12273,\n",
       " 'tablets': 53669,\n",
       " 'accessible': 2296,\n",
       " 'photo': 41262,\n",
       " 'feb': 20750,\n",
       " '12': 233,\n",
       " 'sixth': 50230,\n",
       " 'grade': 23892,\n",
       " 'teacher': 54096,\n",
       " 'carrie': 9862,\n",
       " 'center': 10263,\n",
       " 'answers': 4122,\n",
       " 'students': 52612,\n",
       " 'exercise': 19840,\n",
       " 'laptops': 31546,\n",
       " 'practice': 42441,\n",
       " 'classroom': 11284,\n",
       " 'morgan': 36221,\n",
       " 'elementary': 18346,\n",
       " 'school': 48344,\n",
       " 'south': 51162,\n",
       " 'stockport': 52291,\n",
       " 'grader': 23894,\n",
       " 'kayla': 30360,\n",
       " 'hunter': 26781,\n",
       " 'considers': 12648,\n",
       " 'tech': 54135,\n",
       " 'savvy': 48097,\n",
       " 'unlike': 57269,\n",
       " 'half': 24746,\n",
       " 'classmates': 11283,\n",
       " 'matches': 34223,\n",
       " 'use': 57791,\n",
       " 'week': 59402,\n",
       " 'linked': 32488,\n",
       " 'perky': 40914,\n",
       " 'worries': 60311,\n",
       " 'exam': 19712,\n",
       " 'couldn': 13301,\n",
       " 'log': 32762,\n",
       " 'wouldn': 60341,\n",
       " 'let': 32110,\n",
       " 'kept': 30482,\n",
       " 'wasn': 59191,\n",
       " 'loading': 32674,\n",
       " 'administer': 2669,\n",
       " 'english': 18867,\n",
       " 'arts': 4903,\n",
       " 'math': 34248,\n",
       " 'developed': 15853,\n",
       " 'separate': 49009,\n",
       " 'million': 35371,\n",
       " 'children': 10811,\n",
       " '29': 928,\n",
       " 'district': 16778,\n",
       " 'columbia': 11907,\n",
       " 'using': 57815,\n",
       " 'computers': 12275,\n",
       " 'electronic': 18332,\n",
       " 'exams': 19723,\n",
       " 'expected': 19939,\n",
       " 'difficult': 16072,\n",
       " 'traditional': 55541,\n",
       " 'replace': 45877,\n",
       " 'require': 45998,\n",
       " 'additional': 2586,\n",
       " 'testing': 54468,\n",
       " 'bubble': 8854,\n",
       " 'goal': 23600,\n",
       " 'critical': 13757,\n",
       " 'thinking': 54725,\n",
       " 'skills': 50301,\n",
       " 'reasoning': 44797,\n",
       " 'solve': 50990,\n",
       " 'problems': 43002,\n",
       " 'multimedia': 36610,\n",
       " 'components': 12222,\n",
       " 'written': 60438,\n",
       " 'essays': 19383,\n",
       " 'multi': 36591,\n",
       " 'step': 52136,\n",
       " 'calculations': 9387,\n",
       " 'rote': 47140,\n",
       " 'memory': 34833,\n",
       " 'adaptive': 2562,\n",
       " 'versions': 58324,\n",
       " 'harder': 25003,\n",
       " 'easier': 17918,\n",
       " 'depending': 15460,\n",
       " 'debate': 14705,\n",
       " 'playing': 41714,\n",
       " 'legislatures': 31966,\n",
       " 'role': 46978,\n",
       " 'education': 18096,\n",
       " 'adopted': 2723,\n",
       " 'spells': 51381,\n",
       " 'reading': 44705,\n",
       " 'master': 34198,\n",
       " 'decided': 14798,\n",
       " 'offer': 38690,\n",
       " 'known': 30949,\n",
       " 'smarter': 50594,\n",
       " 'balanced': 6014,\n",
       " 'assessment': 5099,\n",
       " 'consortium': 12672,\n",
       " 'readiness': 44704,\n",
       " 'college': 11823,\n",
       " 'careers': 9759,\n",
       " 'parcc': 40181,\n",
       " 'introducing': 28729,\n",
       " 'fulfill': 22469,\n",
       " 'requirement': 46000,\n",
       " 'child': 10800,\n",
       " 'left': 31912,\n",
       " 'annual': 4072,\n",
       " 'grades': 23896,\n",
       " 'high': 25855,\n",
       " 'seeks': 48803,\n",
       " 'rewrite': 46479,\n",
       " 'required': 45999,\n",
       " 'tested': 54454,\n",
       " 'parents': 40203,\n",
       " 'pockets': 41897,\n",
       " 'opt': 39062,\n",
       " 'raised': 44330,\n",
       " 'keyboarding': 30522,\n",
       " 'schools': 48356,\n",
       " 'capacities': 9638,\n",
       " 'appalachian': 4370,\n",
       " 'foothills': 21765,\n",
       " 'attends': 5344,\n",
       " 'administrators': 2678,\n",
       " 'teachers': 54097,\n",
       " 'worry': 60313,\n",
       " 'bandwidth': 6138,\n",
       " 'provide': 43417,\n",
       " 'reliable': 45621,\n",
       " 'internet': 28590,\n",
       " 'connectivity': 12566,\n",
       " 'paper': 40090,\n",
       " 'option': 39083,\n",
       " 'anticipate': 4178,\n",
       " 'quarter': 43967,\n",
       " 'version': 58323,\n",
       " 'estimate': 19419,\n",
       " 'roughly': 47172,\n",
       " 'percent': 40824,\n",
       " 'rural': 47422,\n",
       " 'southeastern': 51169,\n",
       " 'ordered': 39132,\n",
       " '200': 677,\n",
       " 'chromebooks': 10980,\n",
       " 'worked': 60264,\n",
       " 'huddled': 26649,\n",
       " 'pairs': 39915,\n",
       " 'sharing': 49371,\n",
       " 'devices': 15873,\n",
       " 'available': 5573,\n",
       " 'comfortable': 11974,\n",
       " 'technology': 54162,\n",
       " 'content': 12812,\n",
       " 'stuff': 52623,\n",
       " 'prepare': 42678,\n",
       " 'colton': 11902,\n",
       " 'kidd': 30650,\n",
       " 'screens': 48557,\n",
       " 'classmate': 11282,\n",
       " 'josie': 29824,\n",
       " 'jackson': 29259,\n",
       " 'prefers': 42625,\n",
       " 'pencil': 40746,\n",
       " 'liam': 32214,\n",
       " 'montgomery': 36140,\n",
       " 'likes': 32390,\n",
       " 'computerized': 12274,\n",
       " 'flip': 21505,\n",
       " 'forth': 21959,\n",
       " 'places': 41616,\n",
       " 'grudgingly': 24298,\n",
       " 'moving': 36442,\n",
       " 'forward': 21983,\n",
       " 'referencing': 45259,\n",
       " 'illinois': 27182,\n",
       " 'board': 7834,\n",
       " 'threatened': 54810,\n",
       " 'withhold': 60073,\n",
       " 'funds': 22524,\n",
       " 'didn': 16035,\n",
       " 'chicago': 10772,\n",
       " 'cited': 11152,\n",
       " 'concerns': 12319,\n",
       " 'announcing': 4068,\n",
       " 'majority': 33546,\n",
       " 'trisha': 55962,\n",
       " 'kocanda': 30966,\n",
       " 'superintendent': 53086,\n",
       " 'winnetka': 59978,\n",
       " 'concerned': 12317,\n",
       " 'length': 32041,\n",
       " 'excessive': 19761,\n",
       " 'rigor': 46660,\n",
       " 'grow': 24275,\n",
       " 'wary': 59170,\n",
       " 'ms': 36483,\n",
       " 'continues': 12844,\n",
       " 'emphasis': 18619,\n",
       " 'assessments': 5100,\n",
       " 'evaluation': 19566,\n",
       " 'tools': 55295,\n",
       " 'louisiana': 32951,\n",
       " 'gov': 23832,\n",
       " 'bobby': 7861,\n",
       " 'effort': 18142,\n",
       " 'derailed': 15550,\n",
       " 'judge': 29920,\n",
       " 'governor': 23845,\n",
       " 'actions': 2491,\n",
       " 'harmful': 25046,\n",
       " 'opposes': 39035,\n",
       " 'views': 58492,\n",
       " 'intervention': 28657,\n",
       " 'adoption': 2726,\n",
       " 'stand': 51860,\n",
       " 'familiar': 20454,\n",
       " 'exciting': 19778,\n",
       " 'tony': 55282,\n",
       " 'alpert': 3536,\n",
       " 'executive': 19825,\n",
       " 'director': 16227,\n",
       " 'previous': 42846,\n",
       " ...}"
      ]
     },
     "execution_count": 10,
     "metadata": {},
     "output_type": "execute_result"
    }
   ],
   "source": [
    "count_vectorizer.vocabulary_"
   ]
  },
  {
   "cell_type": "code",
   "execution_count": 11,
   "id": "05f679f4",
   "metadata": {},
   "outputs": [
    {
     "data": {
      "text/plain": [
       "<1267x61647 sparse matrix of type '<class 'numpy.int64'>'\n",
       "\twith 330198 stored elements in Compressed Sparse Row format>"
      ]
     },
     "execution_count": 11,
     "metadata": {},
     "output_type": "execute_result"
    }
   ],
   "source": [
    "count_test=count_vectorizer.transform(x_test)\n",
    "count_test"
   ]
  },
  {
   "cell_type": "code",
   "execution_count": 12,
   "id": "1537b165",
   "metadata": {},
   "outputs": [],
   "source": [
    "tfidf_vectorizer=TfidfVectorizer(stop_words='english',max_df=0.7)"
   ]
  },
  {
   "cell_type": "code",
   "execution_count": 13,
   "id": "d7a2b039",
   "metadata": {},
   "outputs": [
    {
     "name": "stdout",
     "output_type": "stream",
     "text": [
      "(5068, 61647)\n"
     ]
    },
    {
     "data": {
      "text/plain": [
       "<5068x61647 sparse matrix of type '<class 'numpy.float64'>'\n",
       "\twith 1328932 stored elements in Compressed Sparse Row format>"
      ]
     },
     "execution_count": 13,
     "metadata": {},
     "output_type": "execute_result"
    }
   ],
   "source": [
    "tfidf_train=tfidf_vectorizer.fit_transform(x_train)\n",
    "print(tfidf_train.shape)\n",
    "tfidf_train"
   ]
  },
  {
   "cell_type": "code",
   "execution_count": 14,
   "id": "02f31d52",
   "metadata": {},
   "outputs": [],
   "source": [
    "tfidf_test=tfidf_vectorizer.transform(x_test)"
   ]
  },
  {
   "cell_type": "code",
   "execution_count": 40,
   "id": "9eed8a11",
   "metadata": {},
   "outputs": [],
   "source": [
    "from sklearn.naive_bayes import MultinomialNB\n",
    "from sklearn import metrics\n",
    "from sklearn.pipeline import Pipeline\n",
    "from sklearn.metrics import plot_confusion_matrix,confusion_matrix,accuracy_score\n",
    "import matplotlib.pyplot as plt\n",
    "from sklearn.linear_model import PassiveAggressiveClassifier\n",
    "from sklearn.model_selection import KFold\n",
    "from sklearn import set_config\n",
    "import itertools\n",
    "set_config(display='diagram')"
   ]
  },
  {
   "cell_type": "code",
   "execution_count": 16,
   "id": "66825796",
   "metadata": {},
   "outputs": [
    {
     "data": {
      "text/html": [
       "<style>#sk-85fc87ec-9e8d-4f7a-8f7a-1c41eb6f5895 {color: black;background-color: white;}#sk-85fc87ec-9e8d-4f7a-8f7a-1c41eb6f5895 pre{padding: 0;}#sk-85fc87ec-9e8d-4f7a-8f7a-1c41eb6f5895 div.sk-toggleable {background-color: white;}#sk-85fc87ec-9e8d-4f7a-8f7a-1c41eb6f5895 label.sk-toggleable__label {cursor: pointer;display: block;width: 100%;margin-bottom: 0;padding: 0.3em;box-sizing: border-box;text-align: center;}#sk-85fc87ec-9e8d-4f7a-8f7a-1c41eb6f5895 label.sk-toggleable__label-arrow:before {content: \"▸\";float: left;margin-right: 0.25em;color: #696969;}#sk-85fc87ec-9e8d-4f7a-8f7a-1c41eb6f5895 label.sk-toggleable__label-arrow:hover:before {color: black;}#sk-85fc87ec-9e8d-4f7a-8f7a-1c41eb6f5895 div.sk-estimator:hover label.sk-toggleable__label-arrow:before {color: black;}#sk-85fc87ec-9e8d-4f7a-8f7a-1c41eb6f5895 div.sk-toggleable__content {max-height: 0;max-width: 0;overflow: hidden;text-align: left;background-color: #f0f8ff;}#sk-85fc87ec-9e8d-4f7a-8f7a-1c41eb6f5895 div.sk-toggleable__content pre {margin: 0.2em;color: black;border-radius: 0.25em;background-color: #f0f8ff;}#sk-85fc87ec-9e8d-4f7a-8f7a-1c41eb6f5895 input.sk-toggleable__control:checked~div.sk-toggleable__content {max-height: 200px;max-width: 100%;overflow: auto;}#sk-85fc87ec-9e8d-4f7a-8f7a-1c41eb6f5895 input.sk-toggleable__control:checked~label.sk-toggleable__label-arrow:before {content: \"▾\";}#sk-85fc87ec-9e8d-4f7a-8f7a-1c41eb6f5895 div.sk-estimator input.sk-toggleable__control:checked~label.sk-toggleable__label {background-color: #d4ebff;}#sk-85fc87ec-9e8d-4f7a-8f7a-1c41eb6f5895 div.sk-label input.sk-toggleable__control:checked~label.sk-toggleable__label {background-color: #d4ebff;}#sk-85fc87ec-9e8d-4f7a-8f7a-1c41eb6f5895 input.sk-hidden--visually {border: 0;clip: rect(1px 1px 1px 1px);clip: rect(1px, 1px, 1px, 1px);height: 1px;margin: -1px;overflow: hidden;padding: 0;position: absolute;width: 1px;}#sk-85fc87ec-9e8d-4f7a-8f7a-1c41eb6f5895 div.sk-estimator {font-family: monospace;background-color: #f0f8ff;border: 1px dotted black;border-radius: 0.25em;box-sizing: border-box;margin-bottom: 0.5em;}#sk-85fc87ec-9e8d-4f7a-8f7a-1c41eb6f5895 div.sk-estimator:hover {background-color: #d4ebff;}#sk-85fc87ec-9e8d-4f7a-8f7a-1c41eb6f5895 div.sk-parallel-item::after {content: \"\";width: 100%;border-bottom: 1px solid gray;flex-grow: 1;}#sk-85fc87ec-9e8d-4f7a-8f7a-1c41eb6f5895 div.sk-label:hover label.sk-toggleable__label {background-color: #d4ebff;}#sk-85fc87ec-9e8d-4f7a-8f7a-1c41eb6f5895 div.sk-serial::before {content: \"\";position: absolute;border-left: 1px solid gray;box-sizing: border-box;top: 2em;bottom: 0;left: 50%;}#sk-85fc87ec-9e8d-4f7a-8f7a-1c41eb6f5895 div.sk-serial {display: flex;flex-direction: column;align-items: center;background-color: white;padding-right: 0.2em;padding-left: 0.2em;}#sk-85fc87ec-9e8d-4f7a-8f7a-1c41eb6f5895 div.sk-item {z-index: 1;}#sk-85fc87ec-9e8d-4f7a-8f7a-1c41eb6f5895 div.sk-parallel {display: flex;align-items: stretch;justify-content: center;background-color: white;}#sk-85fc87ec-9e8d-4f7a-8f7a-1c41eb6f5895 div.sk-parallel::before {content: \"\";position: absolute;border-left: 1px solid gray;box-sizing: border-box;top: 2em;bottom: 0;left: 50%;}#sk-85fc87ec-9e8d-4f7a-8f7a-1c41eb6f5895 div.sk-parallel-item {display: flex;flex-direction: column;position: relative;background-color: white;}#sk-85fc87ec-9e8d-4f7a-8f7a-1c41eb6f5895 div.sk-parallel-item:first-child::after {align-self: flex-end;width: 50%;}#sk-85fc87ec-9e8d-4f7a-8f7a-1c41eb6f5895 div.sk-parallel-item:last-child::after {align-self: flex-start;width: 50%;}#sk-85fc87ec-9e8d-4f7a-8f7a-1c41eb6f5895 div.sk-parallel-item:only-child::after {width: 0;}#sk-85fc87ec-9e8d-4f7a-8f7a-1c41eb6f5895 div.sk-dashed-wrapped {border: 1px dashed gray;margin: 0 0.4em 0.5em 0.4em;box-sizing: border-box;padding-bottom: 0.4em;background-color: white;position: relative;}#sk-85fc87ec-9e8d-4f7a-8f7a-1c41eb6f5895 div.sk-label label {font-family: monospace;font-weight: bold;background-color: white;display: inline-block;line-height: 1.2em;}#sk-85fc87ec-9e8d-4f7a-8f7a-1c41eb6f5895 div.sk-label-container {position: relative;z-index: 2;text-align: center;}#sk-85fc87ec-9e8d-4f7a-8f7a-1c41eb6f5895 div.sk-container {/* jupyter's `normalize.less` sets `[hidden] { display: none; }` but bootstrap.min.css set `[hidden] { display: none !important; }` so we also need the `!important` here to be able to override the default hidden behavior on the sphinx rendered scikit-learn.org. See: https://github.com/scikit-learn/scikit-learn/issues/21755 */display: inline-block !important;position: relative;}#sk-85fc87ec-9e8d-4f7a-8f7a-1c41eb6f5895 div.sk-text-repr-fallback {display: none;}</style><div id=\"sk-85fc87ec-9e8d-4f7a-8f7a-1c41eb6f5895\" class=\"sk-top-container\"><div class=\"sk-text-repr-fallback\"><pre>Pipeline(steps=[(&#x27;NBTV&#x27;, TfidfVectorizer(max_df=0.7, stop_words=&#x27;english&#x27;)),\n",
       "                (&#x27;nb_clf&#x27;, MultinomialNB())])</pre><b>Please rerun this cell to show the HTML repr or trust the notebook.</b></div><div class=\"sk-container\" hidden><div class=\"sk-item sk-dashed-wrapped\"><div class=\"sk-label-container\"><div class=\"sk-label sk-toggleable\"><input class=\"sk-toggleable__control sk-hidden--visually\" id=\"684bb994-d211-4312-81ed-1cc250632167\" type=\"checkbox\" ><label for=\"684bb994-d211-4312-81ed-1cc250632167\" class=\"sk-toggleable__label sk-toggleable__label-arrow\">Pipeline</label><div class=\"sk-toggleable__content\"><pre>Pipeline(steps=[(&#x27;NBTV&#x27;, TfidfVectorizer(max_df=0.7, stop_words=&#x27;english&#x27;)),\n",
       "                (&#x27;nb_clf&#x27;, MultinomialNB())])</pre></div></div></div><div class=\"sk-serial\"><div class=\"sk-item\"><div class=\"sk-estimator sk-toggleable\"><input class=\"sk-toggleable__control sk-hidden--visually\" id=\"1411a4cf-2a0f-40aa-99a8-03b1d83e11ce\" type=\"checkbox\" ><label for=\"1411a4cf-2a0f-40aa-99a8-03b1d83e11ce\" class=\"sk-toggleable__label sk-toggleable__label-arrow\">TfidfVectorizer</label><div class=\"sk-toggleable__content\"><pre>TfidfVectorizer(max_df=0.7, stop_words=&#x27;english&#x27;)</pre></div></div></div><div class=\"sk-item\"><div class=\"sk-estimator sk-toggleable\"><input class=\"sk-toggleable__control sk-hidden--visually\" id=\"ea47f78e-cbbb-4879-8c2f-2e943b1b7286\" type=\"checkbox\" ><label for=\"ea47f78e-cbbb-4879-8c2f-2e943b1b7286\" class=\"sk-toggleable__label sk-toggleable__label-arrow\">MultinomialNB</label><div class=\"sk-toggleable__content\"><pre>MultinomialNB()</pre></div></div></div></div></div></div></div>"
      ],
      "text/plain": [
       "Pipeline(steps=[('NBTV', TfidfVectorizer(max_df=0.7, stop_words='english')),\n",
       "                ('nb_clf', MultinomialNB())])"
      ]
     },
     "execution_count": 16,
     "metadata": {},
     "output_type": "execute_result"
    }
   ],
   "source": [
    "nb_pipeline=Pipeline([('NBTV',tfidf_vectorizer),('nb_clf',MultinomialNB())])\n",
    "nb_pipeline.fit(x_train,y_train)"
   ]
  },
  {
   "cell_type": "code",
   "execution_count": 17,
   "id": "6d67b086",
   "metadata": {},
   "outputs": [
    {
     "data": {
      "text/plain": [
       "0.8421468034727704"
      ]
     },
     "execution_count": 17,
     "metadata": {},
     "output_type": "execute_result"
    }
   ],
   "source": [
    "prediction_nb=nb_pipeline.predict(x_test)\n",
    "accuracy_score(prediction_nb,y_test)"
   ]
  },
  {
   "cell_type": "code",
   "execution_count": 18,
   "id": "f2920285",
   "metadata": {},
   "outputs": [
    {
     "data": {
      "text/plain": [
       "array([[429, 179],\n",
       "       [ 21, 638]], dtype=int64)"
      ]
     },
     "execution_count": 18,
     "metadata": {},
     "output_type": "execute_result"
    }
   ],
   "source": [
    "confusion_matrix(y_test,prediction_nb)"
   ]
  },
  {
   "cell_type": "code",
   "execution_count": 19,
   "id": "c59b05ff",
   "metadata": {},
   "outputs": [
    {
     "data": {
      "text/html": [
       "<style>#sk-965b9f08-53de-46e6-824f-c0067a8b9048 {color: black;background-color: white;}#sk-965b9f08-53de-46e6-824f-c0067a8b9048 pre{padding: 0;}#sk-965b9f08-53de-46e6-824f-c0067a8b9048 div.sk-toggleable {background-color: white;}#sk-965b9f08-53de-46e6-824f-c0067a8b9048 label.sk-toggleable__label {cursor: pointer;display: block;width: 100%;margin-bottom: 0;padding: 0.3em;box-sizing: border-box;text-align: center;}#sk-965b9f08-53de-46e6-824f-c0067a8b9048 label.sk-toggleable__label-arrow:before {content: \"▸\";float: left;margin-right: 0.25em;color: #696969;}#sk-965b9f08-53de-46e6-824f-c0067a8b9048 label.sk-toggleable__label-arrow:hover:before {color: black;}#sk-965b9f08-53de-46e6-824f-c0067a8b9048 div.sk-estimator:hover label.sk-toggleable__label-arrow:before {color: black;}#sk-965b9f08-53de-46e6-824f-c0067a8b9048 div.sk-toggleable__content {max-height: 0;max-width: 0;overflow: hidden;text-align: left;background-color: #f0f8ff;}#sk-965b9f08-53de-46e6-824f-c0067a8b9048 div.sk-toggleable__content pre {margin: 0.2em;color: black;border-radius: 0.25em;background-color: #f0f8ff;}#sk-965b9f08-53de-46e6-824f-c0067a8b9048 input.sk-toggleable__control:checked~div.sk-toggleable__content {max-height: 200px;max-width: 100%;overflow: auto;}#sk-965b9f08-53de-46e6-824f-c0067a8b9048 input.sk-toggleable__control:checked~label.sk-toggleable__label-arrow:before {content: \"▾\";}#sk-965b9f08-53de-46e6-824f-c0067a8b9048 div.sk-estimator input.sk-toggleable__control:checked~label.sk-toggleable__label {background-color: #d4ebff;}#sk-965b9f08-53de-46e6-824f-c0067a8b9048 div.sk-label input.sk-toggleable__control:checked~label.sk-toggleable__label {background-color: #d4ebff;}#sk-965b9f08-53de-46e6-824f-c0067a8b9048 input.sk-hidden--visually {border: 0;clip: rect(1px 1px 1px 1px);clip: rect(1px, 1px, 1px, 1px);height: 1px;margin: -1px;overflow: hidden;padding: 0;position: absolute;width: 1px;}#sk-965b9f08-53de-46e6-824f-c0067a8b9048 div.sk-estimator {font-family: monospace;background-color: #f0f8ff;border: 1px dotted black;border-radius: 0.25em;box-sizing: border-box;margin-bottom: 0.5em;}#sk-965b9f08-53de-46e6-824f-c0067a8b9048 div.sk-estimator:hover {background-color: #d4ebff;}#sk-965b9f08-53de-46e6-824f-c0067a8b9048 div.sk-parallel-item::after {content: \"\";width: 100%;border-bottom: 1px solid gray;flex-grow: 1;}#sk-965b9f08-53de-46e6-824f-c0067a8b9048 div.sk-label:hover label.sk-toggleable__label {background-color: #d4ebff;}#sk-965b9f08-53de-46e6-824f-c0067a8b9048 div.sk-serial::before {content: \"\";position: absolute;border-left: 1px solid gray;box-sizing: border-box;top: 2em;bottom: 0;left: 50%;}#sk-965b9f08-53de-46e6-824f-c0067a8b9048 div.sk-serial {display: flex;flex-direction: column;align-items: center;background-color: white;padding-right: 0.2em;padding-left: 0.2em;}#sk-965b9f08-53de-46e6-824f-c0067a8b9048 div.sk-item {z-index: 1;}#sk-965b9f08-53de-46e6-824f-c0067a8b9048 div.sk-parallel {display: flex;align-items: stretch;justify-content: center;background-color: white;}#sk-965b9f08-53de-46e6-824f-c0067a8b9048 div.sk-parallel::before {content: \"\";position: absolute;border-left: 1px solid gray;box-sizing: border-box;top: 2em;bottom: 0;left: 50%;}#sk-965b9f08-53de-46e6-824f-c0067a8b9048 div.sk-parallel-item {display: flex;flex-direction: column;position: relative;background-color: white;}#sk-965b9f08-53de-46e6-824f-c0067a8b9048 div.sk-parallel-item:first-child::after {align-self: flex-end;width: 50%;}#sk-965b9f08-53de-46e6-824f-c0067a8b9048 div.sk-parallel-item:last-child::after {align-self: flex-start;width: 50%;}#sk-965b9f08-53de-46e6-824f-c0067a8b9048 div.sk-parallel-item:only-child::after {width: 0;}#sk-965b9f08-53de-46e6-824f-c0067a8b9048 div.sk-dashed-wrapped {border: 1px dashed gray;margin: 0 0.4em 0.5em 0.4em;box-sizing: border-box;padding-bottom: 0.4em;background-color: white;position: relative;}#sk-965b9f08-53de-46e6-824f-c0067a8b9048 div.sk-label label {font-family: monospace;font-weight: bold;background-color: white;display: inline-block;line-height: 1.2em;}#sk-965b9f08-53de-46e6-824f-c0067a8b9048 div.sk-label-container {position: relative;z-index: 2;text-align: center;}#sk-965b9f08-53de-46e6-824f-c0067a8b9048 div.sk-container {/* jupyter's `normalize.less` sets `[hidden] { display: none; }` but bootstrap.min.css set `[hidden] { display: none !important; }` so we also need the `!important` here to be able to override the default hidden behavior on the sphinx rendered scikit-learn.org. See: https://github.com/scikit-learn/scikit-learn/issues/21755 */display: inline-block !important;position: relative;}#sk-965b9f08-53de-46e6-824f-c0067a8b9048 div.sk-text-repr-fallback {display: none;}</style><div id=\"sk-965b9f08-53de-46e6-824f-c0067a8b9048\" class=\"sk-top-container\"><div class=\"sk-text-repr-fallback\"><pre>Pipeline(steps=[(&#x27;linear&#x27;, TfidfVectorizer(max_df=0.7, stop_words=&#x27;english&#x27;)),\n",
       "                (&#x27;pa_clf&#x27;, PassiveAggressiveClassifier(max_iter=50))])</pre><b>Please rerun this cell to show the HTML repr or trust the notebook.</b></div><div class=\"sk-container\" hidden><div class=\"sk-item sk-dashed-wrapped\"><div class=\"sk-label-container\"><div class=\"sk-label sk-toggleable\"><input class=\"sk-toggleable__control sk-hidden--visually\" id=\"309046e0-2662-4c2c-950e-cf52144aa3c8\" type=\"checkbox\" ><label for=\"309046e0-2662-4c2c-950e-cf52144aa3c8\" class=\"sk-toggleable__label sk-toggleable__label-arrow\">Pipeline</label><div class=\"sk-toggleable__content\"><pre>Pipeline(steps=[(&#x27;linear&#x27;, TfidfVectorizer(max_df=0.7, stop_words=&#x27;english&#x27;)),\n",
       "                (&#x27;pa_clf&#x27;, PassiveAggressiveClassifier(max_iter=50))])</pre></div></div></div><div class=\"sk-serial\"><div class=\"sk-item\"><div class=\"sk-estimator sk-toggleable\"><input class=\"sk-toggleable__control sk-hidden--visually\" id=\"e0839fce-0054-4665-8f6a-a621caff7efe\" type=\"checkbox\" ><label for=\"e0839fce-0054-4665-8f6a-a621caff7efe\" class=\"sk-toggleable__label sk-toggleable__label-arrow\">TfidfVectorizer</label><div class=\"sk-toggleable__content\"><pre>TfidfVectorizer(max_df=0.7, stop_words=&#x27;english&#x27;)</pre></div></div></div><div class=\"sk-item\"><div class=\"sk-estimator sk-toggleable\"><input class=\"sk-toggleable__control sk-hidden--visually\" id=\"11f66bc3-47b6-4894-88ce-22d5d0d81bf2\" type=\"checkbox\" ><label for=\"11f66bc3-47b6-4894-88ce-22d5d0d81bf2\" class=\"sk-toggleable__label sk-toggleable__label-arrow\">PassiveAggressiveClassifier</label><div class=\"sk-toggleable__content\"><pre>PassiveAggressiveClassifier(max_iter=50)</pre></div></div></div></div></div></div></div>"
      ],
      "text/plain": [
       "Pipeline(steps=[('linear', TfidfVectorizer(max_df=0.7, stop_words='english')),\n",
       "                ('pa_clf', PassiveAggressiveClassifier(max_iter=50))])"
      ]
     },
     "execution_count": 19,
     "metadata": {},
     "output_type": "execute_result"
    }
   ],
   "source": [
    "linear_clf=Pipeline([('linear',tfidf_vectorizer),('pa_clf',PassiveAggressiveClassifier(max_iter=50))])\n",
    "linear_clf.fit(x_train,y_train)"
   ]
  },
  {
   "cell_type": "code",
   "execution_count": 20,
   "id": "1ba74e51",
   "metadata": {},
   "outputs": [
    {
     "data": {
      "text/plain": [
       "0.9352801894238358"
      ]
     },
     "execution_count": 20,
     "metadata": {},
     "output_type": "execute_result"
    }
   ],
   "source": [
    "prediction_clf=linear_clf.predict(x_test)\n",
    "accuracy_score(prediction_clf,y_test)"
   ]
  },
  {
   "cell_type": "code",
   "execution_count": 21,
   "id": "d965aef9",
   "metadata": {},
   "outputs": [
    {
     "data": {
      "text/plain": [
       "array([[574,  48],\n",
       "       [ 34, 611]], dtype=int64)"
      ]
     },
     "execution_count": 21,
     "metadata": {},
     "output_type": "execute_result"
    }
   ],
   "source": [
    "confusion_matrix(prediction_clf,y_test)"
   ]
  },
  {
   "cell_type": "code",
   "execution_count": 22,
   "id": "de15ded1",
   "metadata": {},
   "outputs": [
    {
     "name": "stdout",
     "output_type": "stream",
     "text": [
      "              precision    recall  f1-score   support\n",
      "\n",
      "        FAKE       0.92      0.94      0.93       608\n",
      "        REAL       0.95      0.93      0.94       659\n",
      "\n",
      "    accuracy                           0.94      1267\n",
      "   macro avg       0.94      0.94      0.94      1267\n",
      "weighted avg       0.94      0.94      0.94      1267\n",
      "\n"
     ]
    }
   ],
   "source": [
    "print(metrics.classification_report(y_test,prediction_clf))"
   ]
  },
  {
   "cell_type": "code",
   "execution_count": 23,
   "id": "514a60fc",
   "metadata": {},
   "outputs": [
    {
     "name": "stdout",
     "output_type": "stream",
     "text": [
      "              precision    recall  f1-score   support\n",
      "\n",
      "        FAKE       0.95      0.71      0.81       608\n",
      "        REAL       0.78      0.97      0.86       659\n",
      "\n",
      "    accuracy                           0.84      1267\n",
      "   macro avg       0.87      0.84      0.84      1267\n",
      "weighted avg       0.86      0.84      0.84      1267\n",
      "\n"
     ]
    }
   ],
   "source": [
    "print(metrics.classification_report(y_test,prediction_nb))"
   ]
  },
  {
   "cell_type": "code",
   "execution_count": 24,
   "id": "b903a3c7",
   "metadata": {},
   "outputs": [
    {
     "data": {
      "text/html": [
       "<style>#sk-8eb7e40d-b036-4dbb-84c5-fa534973255d {color: black;background-color: white;}#sk-8eb7e40d-b036-4dbb-84c5-fa534973255d pre{padding: 0;}#sk-8eb7e40d-b036-4dbb-84c5-fa534973255d div.sk-toggleable {background-color: white;}#sk-8eb7e40d-b036-4dbb-84c5-fa534973255d label.sk-toggleable__label {cursor: pointer;display: block;width: 100%;margin-bottom: 0;padding: 0.3em;box-sizing: border-box;text-align: center;}#sk-8eb7e40d-b036-4dbb-84c5-fa534973255d label.sk-toggleable__label-arrow:before {content: \"▸\";float: left;margin-right: 0.25em;color: #696969;}#sk-8eb7e40d-b036-4dbb-84c5-fa534973255d label.sk-toggleable__label-arrow:hover:before {color: black;}#sk-8eb7e40d-b036-4dbb-84c5-fa534973255d div.sk-estimator:hover label.sk-toggleable__label-arrow:before {color: black;}#sk-8eb7e40d-b036-4dbb-84c5-fa534973255d div.sk-toggleable__content {max-height: 0;max-width: 0;overflow: hidden;text-align: left;background-color: #f0f8ff;}#sk-8eb7e40d-b036-4dbb-84c5-fa534973255d div.sk-toggleable__content pre {margin: 0.2em;color: black;border-radius: 0.25em;background-color: #f0f8ff;}#sk-8eb7e40d-b036-4dbb-84c5-fa534973255d input.sk-toggleable__control:checked~div.sk-toggleable__content {max-height: 200px;max-width: 100%;overflow: auto;}#sk-8eb7e40d-b036-4dbb-84c5-fa534973255d input.sk-toggleable__control:checked~label.sk-toggleable__label-arrow:before {content: \"▾\";}#sk-8eb7e40d-b036-4dbb-84c5-fa534973255d div.sk-estimator input.sk-toggleable__control:checked~label.sk-toggleable__label {background-color: #d4ebff;}#sk-8eb7e40d-b036-4dbb-84c5-fa534973255d div.sk-label input.sk-toggleable__control:checked~label.sk-toggleable__label {background-color: #d4ebff;}#sk-8eb7e40d-b036-4dbb-84c5-fa534973255d input.sk-hidden--visually {border: 0;clip: rect(1px 1px 1px 1px);clip: rect(1px, 1px, 1px, 1px);height: 1px;margin: -1px;overflow: hidden;padding: 0;position: absolute;width: 1px;}#sk-8eb7e40d-b036-4dbb-84c5-fa534973255d div.sk-estimator {font-family: monospace;background-color: #f0f8ff;border: 1px dotted black;border-radius: 0.25em;box-sizing: border-box;margin-bottom: 0.5em;}#sk-8eb7e40d-b036-4dbb-84c5-fa534973255d div.sk-estimator:hover {background-color: #d4ebff;}#sk-8eb7e40d-b036-4dbb-84c5-fa534973255d div.sk-parallel-item::after {content: \"\";width: 100%;border-bottom: 1px solid gray;flex-grow: 1;}#sk-8eb7e40d-b036-4dbb-84c5-fa534973255d div.sk-label:hover label.sk-toggleable__label {background-color: #d4ebff;}#sk-8eb7e40d-b036-4dbb-84c5-fa534973255d div.sk-serial::before {content: \"\";position: absolute;border-left: 1px solid gray;box-sizing: border-box;top: 2em;bottom: 0;left: 50%;}#sk-8eb7e40d-b036-4dbb-84c5-fa534973255d div.sk-serial {display: flex;flex-direction: column;align-items: center;background-color: white;padding-right: 0.2em;padding-left: 0.2em;}#sk-8eb7e40d-b036-4dbb-84c5-fa534973255d div.sk-item {z-index: 1;}#sk-8eb7e40d-b036-4dbb-84c5-fa534973255d div.sk-parallel {display: flex;align-items: stretch;justify-content: center;background-color: white;}#sk-8eb7e40d-b036-4dbb-84c5-fa534973255d div.sk-parallel::before {content: \"\";position: absolute;border-left: 1px solid gray;box-sizing: border-box;top: 2em;bottom: 0;left: 50%;}#sk-8eb7e40d-b036-4dbb-84c5-fa534973255d div.sk-parallel-item {display: flex;flex-direction: column;position: relative;background-color: white;}#sk-8eb7e40d-b036-4dbb-84c5-fa534973255d div.sk-parallel-item:first-child::after {align-self: flex-end;width: 50%;}#sk-8eb7e40d-b036-4dbb-84c5-fa534973255d div.sk-parallel-item:last-child::after {align-self: flex-start;width: 50%;}#sk-8eb7e40d-b036-4dbb-84c5-fa534973255d div.sk-parallel-item:only-child::after {width: 0;}#sk-8eb7e40d-b036-4dbb-84c5-fa534973255d div.sk-dashed-wrapped {border: 1px dashed gray;margin: 0 0.4em 0.5em 0.4em;box-sizing: border-box;padding-bottom: 0.4em;background-color: white;position: relative;}#sk-8eb7e40d-b036-4dbb-84c5-fa534973255d div.sk-label label {font-family: monospace;font-weight: bold;background-color: white;display: inline-block;line-height: 1.2em;}#sk-8eb7e40d-b036-4dbb-84c5-fa534973255d div.sk-label-container {position: relative;z-index: 2;text-align: center;}#sk-8eb7e40d-b036-4dbb-84c5-fa534973255d div.sk-container {/* jupyter's `normalize.less` sets `[hidden] { display: none; }` but bootstrap.min.css set `[hidden] { display: none !important; }` so we also need the `!important` here to be able to override the default hidden behavior on the sphinx rendered scikit-learn.org. See: https://github.com/scikit-learn/scikit-learn/issues/21755 */display: inline-block !important;position: relative;}#sk-8eb7e40d-b036-4dbb-84c5-fa534973255d div.sk-text-repr-fallback {display: none;}</style><div id=\"sk-8eb7e40d-b036-4dbb-84c5-fa534973255d\" class=\"sk-top-container\"><div class=\"sk-text-repr-fallback\"><pre>Pipeline(steps=[(&#x27;linear&#x27;, TfidfVectorizer(max_df=0.7, stop_words=&#x27;english&#x27;)),\n",
       "                (&#x27;ada_clf&#x27;, AdaBoostClassifier())])</pre><b>Please rerun this cell to show the HTML repr or trust the notebook.</b></div><div class=\"sk-container\" hidden><div class=\"sk-item sk-dashed-wrapped\"><div class=\"sk-label-container\"><div class=\"sk-label sk-toggleable\"><input class=\"sk-toggleable__control sk-hidden--visually\" id=\"b6d3b8b1-5486-4cf2-94d1-f641fc5c17d6\" type=\"checkbox\" ><label for=\"b6d3b8b1-5486-4cf2-94d1-f641fc5c17d6\" class=\"sk-toggleable__label sk-toggleable__label-arrow\">Pipeline</label><div class=\"sk-toggleable__content\"><pre>Pipeline(steps=[(&#x27;linear&#x27;, TfidfVectorizer(max_df=0.7, stop_words=&#x27;english&#x27;)),\n",
       "                (&#x27;ada_clf&#x27;, AdaBoostClassifier())])</pre></div></div></div><div class=\"sk-serial\"><div class=\"sk-item\"><div class=\"sk-estimator sk-toggleable\"><input class=\"sk-toggleable__control sk-hidden--visually\" id=\"cfaf5bca-552c-423b-9b8f-f8e3464124a9\" type=\"checkbox\" ><label for=\"cfaf5bca-552c-423b-9b8f-f8e3464124a9\" class=\"sk-toggleable__label sk-toggleable__label-arrow\">TfidfVectorizer</label><div class=\"sk-toggleable__content\"><pre>TfidfVectorizer(max_df=0.7, stop_words=&#x27;english&#x27;)</pre></div></div></div><div class=\"sk-item\"><div class=\"sk-estimator sk-toggleable\"><input class=\"sk-toggleable__control sk-hidden--visually\" id=\"b8808425-fb70-40a7-b82f-d626e051e706\" type=\"checkbox\" ><label for=\"b8808425-fb70-40a7-b82f-d626e051e706\" class=\"sk-toggleable__label sk-toggleable__label-arrow\">AdaBoostClassifier</label><div class=\"sk-toggleable__content\"><pre>AdaBoostClassifier()</pre></div></div></div></div></div></div></div>"
      ],
      "text/plain": [
       "Pipeline(steps=[('linear', TfidfVectorizer(max_df=0.7, stop_words='english')),\n",
       "                ('ada_clf', AdaBoostClassifier())])"
      ]
     },
     "execution_count": 24,
     "metadata": {},
     "output_type": "execute_result"
    }
   ],
   "source": [
    "from sklearn.ensemble import AdaBoostClassifier\n",
    "linear_ada=Pipeline([('linear',tfidf_vectorizer),('ada_clf',AdaBoostClassifier())])\n",
    "linear_ada.fit(x_train,y_train)"
   ]
  },
  {
   "cell_type": "code",
   "execution_count": 25,
   "id": "3221521a",
   "metadata": {},
   "outputs": [
    {
     "data": {
      "text/plain": [
       "0.8800315706393055"
      ]
     },
     "execution_count": 25,
     "metadata": {},
     "output_type": "execute_result"
    }
   ],
   "source": [
    "pred_ada=linear_ada.predict(x_test)\n",
    "accuracy_score(pred_ada,y_test)"
   ]
  },
  {
   "cell_type": "code",
   "execution_count": 26,
   "id": "69f91881",
   "metadata": {
    "scrolled": true
   },
   "outputs": [
    {
     "name": "stdout",
     "output_type": "stream",
     "text": [
      "              precision    recall  f1-score   support\n",
      "\n",
      "        FAKE       0.87      0.88      0.88       608\n",
      "        REAL       0.89      0.88      0.88       659\n",
      "\n",
      "    accuracy                           0.88      1267\n",
      "   macro avg       0.88      0.88      0.88      1267\n",
      "weighted avg       0.88      0.88      0.88      1267\n",
      "\n"
     ]
    }
   ],
   "source": [
    "print(metrics.classification_report(y_test,pred_ada))"
   ]
  },
  {
   "cell_type": "code",
   "execution_count": 27,
   "id": "d3f3e083",
   "metadata": {},
   "outputs": [
    {
     "data": {
      "text/html": [
       "<style>#sk-d1f023d0-1229-45cd-86b6-dccf56e773e6 {color: black;background-color: white;}#sk-d1f023d0-1229-45cd-86b6-dccf56e773e6 pre{padding: 0;}#sk-d1f023d0-1229-45cd-86b6-dccf56e773e6 div.sk-toggleable {background-color: white;}#sk-d1f023d0-1229-45cd-86b6-dccf56e773e6 label.sk-toggleable__label {cursor: pointer;display: block;width: 100%;margin-bottom: 0;padding: 0.3em;box-sizing: border-box;text-align: center;}#sk-d1f023d0-1229-45cd-86b6-dccf56e773e6 label.sk-toggleable__label-arrow:before {content: \"▸\";float: left;margin-right: 0.25em;color: #696969;}#sk-d1f023d0-1229-45cd-86b6-dccf56e773e6 label.sk-toggleable__label-arrow:hover:before {color: black;}#sk-d1f023d0-1229-45cd-86b6-dccf56e773e6 div.sk-estimator:hover label.sk-toggleable__label-arrow:before {color: black;}#sk-d1f023d0-1229-45cd-86b6-dccf56e773e6 div.sk-toggleable__content {max-height: 0;max-width: 0;overflow: hidden;text-align: left;background-color: #f0f8ff;}#sk-d1f023d0-1229-45cd-86b6-dccf56e773e6 div.sk-toggleable__content pre {margin: 0.2em;color: black;border-radius: 0.25em;background-color: #f0f8ff;}#sk-d1f023d0-1229-45cd-86b6-dccf56e773e6 input.sk-toggleable__control:checked~div.sk-toggleable__content {max-height: 200px;max-width: 100%;overflow: auto;}#sk-d1f023d0-1229-45cd-86b6-dccf56e773e6 input.sk-toggleable__control:checked~label.sk-toggleable__label-arrow:before {content: \"▾\";}#sk-d1f023d0-1229-45cd-86b6-dccf56e773e6 div.sk-estimator input.sk-toggleable__control:checked~label.sk-toggleable__label {background-color: #d4ebff;}#sk-d1f023d0-1229-45cd-86b6-dccf56e773e6 div.sk-label input.sk-toggleable__control:checked~label.sk-toggleable__label {background-color: #d4ebff;}#sk-d1f023d0-1229-45cd-86b6-dccf56e773e6 input.sk-hidden--visually {border: 0;clip: rect(1px 1px 1px 1px);clip: rect(1px, 1px, 1px, 1px);height: 1px;margin: -1px;overflow: hidden;padding: 0;position: absolute;width: 1px;}#sk-d1f023d0-1229-45cd-86b6-dccf56e773e6 div.sk-estimator {font-family: monospace;background-color: #f0f8ff;border: 1px dotted black;border-radius: 0.25em;box-sizing: border-box;margin-bottom: 0.5em;}#sk-d1f023d0-1229-45cd-86b6-dccf56e773e6 div.sk-estimator:hover {background-color: #d4ebff;}#sk-d1f023d0-1229-45cd-86b6-dccf56e773e6 div.sk-parallel-item::after {content: \"\";width: 100%;border-bottom: 1px solid gray;flex-grow: 1;}#sk-d1f023d0-1229-45cd-86b6-dccf56e773e6 div.sk-label:hover label.sk-toggleable__label {background-color: #d4ebff;}#sk-d1f023d0-1229-45cd-86b6-dccf56e773e6 div.sk-serial::before {content: \"\";position: absolute;border-left: 1px solid gray;box-sizing: border-box;top: 2em;bottom: 0;left: 50%;}#sk-d1f023d0-1229-45cd-86b6-dccf56e773e6 div.sk-serial {display: flex;flex-direction: column;align-items: center;background-color: white;padding-right: 0.2em;padding-left: 0.2em;}#sk-d1f023d0-1229-45cd-86b6-dccf56e773e6 div.sk-item {z-index: 1;}#sk-d1f023d0-1229-45cd-86b6-dccf56e773e6 div.sk-parallel {display: flex;align-items: stretch;justify-content: center;background-color: white;}#sk-d1f023d0-1229-45cd-86b6-dccf56e773e6 div.sk-parallel::before {content: \"\";position: absolute;border-left: 1px solid gray;box-sizing: border-box;top: 2em;bottom: 0;left: 50%;}#sk-d1f023d0-1229-45cd-86b6-dccf56e773e6 div.sk-parallel-item {display: flex;flex-direction: column;position: relative;background-color: white;}#sk-d1f023d0-1229-45cd-86b6-dccf56e773e6 div.sk-parallel-item:first-child::after {align-self: flex-end;width: 50%;}#sk-d1f023d0-1229-45cd-86b6-dccf56e773e6 div.sk-parallel-item:last-child::after {align-self: flex-start;width: 50%;}#sk-d1f023d0-1229-45cd-86b6-dccf56e773e6 div.sk-parallel-item:only-child::after {width: 0;}#sk-d1f023d0-1229-45cd-86b6-dccf56e773e6 div.sk-dashed-wrapped {border: 1px dashed gray;margin: 0 0.4em 0.5em 0.4em;box-sizing: border-box;padding-bottom: 0.4em;background-color: white;position: relative;}#sk-d1f023d0-1229-45cd-86b6-dccf56e773e6 div.sk-label label {font-family: monospace;font-weight: bold;background-color: white;display: inline-block;line-height: 1.2em;}#sk-d1f023d0-1229-45cd-86b6-dccf56e773e6 div.sk-label-container {position: relative;z-index: 2;text-align: center;}#sk-d1f023d0-1229-45cd-86b6-dccf56e773e6 div.sk-container {/* jupyter's `normalize.less` sets `[hidden] { display: none; }` but bootstrap.min.css set `[hidden] { display: none !important; }` so we also need the `!important` here to be able to override the default hidden behavior on the sphinx rendered scikit-learn.org. See: https://github.com/scikit-learn/scikit-learn/issues/21755 */display: inline-block !important;position: relative;}#sk-d1f023d0-1229-45cd-86b6-dccf56e773e6 div.sk-text-repr-fallback {display: none;}</style><div id=\"sk-d1f023d0-1229-45cd-86b6-dccf56e773e6\" class=\"sk-top-container\"><div class=\"sk-text-repr-fallback\"><pre>Pipeline(steps=[(&#x27;linear&#x27;, TfidfVectorizer(max_df=0.7, stop_words=&#x27;english&#x27;)),\n",
       "                (&#x27;svc_clf&#x27;, SVC())])</pre><b>Please rerun this cell to show the HTML repr or trust the notebook.</b></div><div class=\"sk-container\" hidden><div class=\"sk-item sk-dashed-wrapped\"><div class=\"sk-label-container\"><div class=\"sk-label sk-toggleable\"><input class=\"sk-toggleable__control sk-hidden--visually\" id=\"80507e98-a8a0-45d1-87af-2dc50af165d6\" type=\"checkbox\" ><label for=\"80507e98-a8a0-45d1-87af-2dc50af165d6\" class=\"sk-toggleable__label sk-toggleable__label-arrow\">Pipeline</label><div class=\"sk-toggleable__content\"><pre>Pipeline(steps=[(&#x27;linear&#x27;, TfidfVectorizer(max_df=0.7, stop_words=&#x27;english&#x27;)),\n",
       "                (&#x27;svc_clf&#x27;, SVC())])</pre></div></div></div><div class=\"sk-serial\"><div class=\"sk-item\"><div class=\"sk-estimator sk-toggleable\"><input class=\"sk-toggleable__control sk-hidden--visually\" id=\"eee49cbb-4e67-4263-8b4c-52acbc90ca60\" type=\"checkbox\" ><label for=\"eee49cbb-4e67-4263-8b4c-52acbc90ca60\" class=\"sk-toggleable__label sk-toggleable__label-arrow\">TfidfVectorizer</label><div class=\"sk-toggleable__content\"><pre>TfidfVectorizer(max_df=0.7, stop_words=&#x27;english&#x27;)</pre></div></div></div><div class=\"sk-item\"><div class=\"sk-estimator sk-toggleable\"><input class=\"sk-toggleable__control sk-hidden--visually\" id=\"a3170c2a-3c83-402b-bf92-040e3e3a4d63\" type=\"checkbox\" ><label for=\"a3170c2a-3c83-402b-bf92-040e3e3a4d63\" class=\"sk-toggleable__label sk-toggleable__label-arrow\">SVC</label><div class=\"sk-toggleable__content\"><pre>SVC()</pre></div></div></div></div></div></div></div>"
      ],
      "text/plain": [
       "Pipeline(steps=[('linear', TfidfVectorizer(max_df=0.7, stop_words='english')),\n",
       "                ('svc_clf', SVC())])"
      ]
     },
     "execution_count": 27,
     "metadata": {},
     "output_type": "execute_result"
    }
   ],
   "source": [
    "from sklearn.svm import SVC\n",
    "linear_svc=Pipeline([('linear',tfidf_vectorizer),('svc_clf',SVC())])\n",
    "linear_svc.fit(x_train,y_train)"
   ]
  },
  {
   "cell_type": "code",
   "execution_count": 28,
   "id": "bfdf908f",
   "metadata": {},
   "outputs": [
    {
     "data": {
      "text/plain": [
       "0.925808997632202"
      ]
     },
     "execution_count": 28,
     "metadata": {},
     "output_type": "execute_result"
    }
   ],
   "source": [
    "pred_svc=linear_svc.predict(x_test)\n",
    "accuracy_score(pred_svc,y_test)"
   ]
  },
  {
   "cell_type": "code",
   "execution_count": 29,
   "id": "4017259f",
   "metadata": {},
   "outputs": [
    {
     "name": "stdout",
     "output_type": "stream",
     "text": [
      "              precision    recall  f1-score   support\n",
      "\n",
      "        FAKE       0.90      0.95      0.92       608\n",
      "        REAL       0.95      0.90      0.93       659\n",
      "\n",
      "    accuracy                           0.93      1267\n",
      "   macro avg       0.93      0.93      0.93      1267\n",
      "weighted avg       0.93      0.93      0.93      1267\n",
      "\n"
     ]
    }
   ],
   "source": [
    "print(metrics.classification_report(y_test,pred_svc))"
   ]
  },
  {
   "cell_type": "code",
   "execution_count": 30,
   "id": "e63f6692",
   "metadata": {},
   "outputs": [
    {
     "name": "stderr",
     "output_type": "stream",
     "text": [
      "D:\\anaconda3\\lib\\site-packages\\xgboost\\sklearn.py:1224: UserWarning: The use of label encoder in XGBClassifier is deprecated and will be removed in a future release. To remove this warning, do the following: 1) Pass option use_label_encoder=False when constructing XGBClassifier object; and 2) Encode your labels (y) as integers starting with 0, i.e. 0, 1, 2, ..., [num_class - 1].\n",
      "  warnings.warn(label_encoder_deprecation_msg, UserWarning)\n"
     ]
    },
    {
     "name": "stdout",
     "output_type": "stream",
     "text": [
      "[16:12:16] WARNING: C:/Users/Administrator/workspace/xgboost-win64_release_1.5.0/src/learner.cc:1115: Starting in XGBoost 1.3.0, the default evaluation metric used with the objective 'binary:logistic' was changed from 'error' to 'logloss'. Explicitly set eval_metric if you'd like to restore the old behavior.\n"
     ]
    },
    {
     "data": {
      "text/html": [
       "<style>#sk-a4ac0504-a389-48b3-91ed-4d21c8d2c2e5 {color: black;background-color: white;}#sk-a4ac0504-a389-48b3-91ed-4d21c8d2c2e5 pre{padding: 0;}#sk-a4ac0504-a389-48b3-91ed-4d21c8d2c2e5 div.sk-toggleable {background-color: white;}#sk-a4ac0504-a389-48b3-91ed-4d21c8d2c2e5 label.sk-toggleable__label {cursor: pointer;display: block;width: 100%;margin-bottom: 0;padding: 0.3em;box-sizing: border-box;text-align: center;}#sk-a4ac0504-a389-48b3-91ed-4d21c8d2c2e5 label.sk-toggleable__label-arrow:before {content: \"▸\";float: left;margin-right: 0.25em;color: #696969;}#sk-a4ac0504-a389-48b3-91ed-4d21c8d2c2e5 label.sk-toggleable__label-arrow:hover:before {color: black;}#sk-a4ac0504-a389-48b3-91ed-4d21c8d2c2e5 div.sk-estimator:hover label.sk-toggleable__label-arrow:before {color: black;}#sk-a4ac0504-a389-48b3-91ed-4d21c8d2c2e5 div.sk-toggleable__content {max-height: 0;max-width: 0;overflow: hidden;text-align: left;background-color: #f0f8ff;}#sk-a4ac0504-a389-48b3-91ed-4d21c8d2c2e5 div.sk-toggleable__content pre {margin: 0.2em;color: black;border-radius: 0.25em;background-color: #f0f8ff;}#sk-a4ac0504-a389-48b3-91ed-4d21c8d2c2e5 input.sk-toggleable__control:checked~div.sk-toggleable__content {max-height: 200px;max-width: 100%;overflow: auto;}#sk-a4ac0504-a389-48b3-91ed-4d21c8d2c2e5 input.sk-toggleable__control:checked~label.sk-toggleable__label-arrow:before {content: \"▾\";}#sk-a4ac0504-a389-48b3-91ed-4d21c8d2c2e5 div.sk-estimator input.sk-toggleable__control:checked~label.sk-toggleable__label {background-color: #d4ebff;}#sk-a4ac0504-a389-48b3-91ed-4d21c8d2c2e5 div.sk-label input.sk-toggleable__control:checked~label.sk-toggleable__label {background-color: #d4ebff;}#sk-a4ac0504-a389-48b3-91ed-4d21c8d2c2e5 input.sk-hidden--visually {border: 0;clip: rect(1px 1px 1px 1px);clip: rect(1px, 1px, 1px, 1px);height: 1px;margin: -1px;overflow: hidden;padding: 0;position: absolute;width: 1px;}#sk-a4ac0504-a389-48b3-91ed-4d21c8d2c2e5 div.sk-estimator {font-family: monospace;background-color: #f0f8ff;border: 1px dotted black;border-radius: 0.25em;box-sizing: border-box;margin-bottom: 0.5em;}#sk-a4ac0504-a389-48b3-91ed-4d21c8d2c2e5 div.sk-estimator:hover {background-color: #d4ebff;}#sk-a4ac0504-a389-48b3-91ed-4d21c8d2c2e5 div.sk-parallel-item::after {content: \"\";width: 100%;border-bottom: 1px solid gray;flex-grow: 1;}#sk-a4ac0504-a389-48b3-91ed-4d21c8d2c2e5 div.sk-label:hover label.sk-toggleable__label {background-color: #d4ebff;}#sk-a4ac0504-a389-48b3-91ed-4d21c8d2c2e5 div.sk-serial::before {content: \"\";position: absolute;border-left: 1px solid gray;box-sizing: border-box;top: 2em;bottom: 0;left: 50%;}#sk-a4ac0504-a389-48b3-91ed-4d21c8d2c2e5 div.sk-serial {display: flex;flex-direction: column;align-items: center;background-color: white;padding-right: 0.2em;padding-left: 0.2em;}#sk-a4ac0504-a389-48b3-91ed-4d21c8d2c2e5 div.sk-item {z-index: 1;}#sk-a4ac0504-a389-48b3-91ed-4d21c8d2c2e5 div.sk-parallel {display: flex;align-items: stretch;justify-content: center;background-color: white;}#sk-a4ac0504-a389-48b3-91ed-4d21c8d2c2e5 div.sk-parallel::before {content: \"\";position: absolute;border-left: 1px solid gray;box-sizing: border-box;top: 2em;bottom: 0;left: 50%;}#sk-a4ac0504-a389-48b3-91ed-4d21c8d2c2e5 div.sk-parallel-item {display: flex;flex-direction: column;position: relative;background-color: white;}#sk-a4ac0504-a389-48b3-91ed-4d21c8d2c2e5 div.sk-parallel-item:first-child::after {align-self: flex-end;width: 50%;}#sk-a4ac0504-a389-48b3-91ed-4d21c8d2c2e5 div.sk-parallel-item:last-child::after {align-self: flex-start;width: 50%;}#sk-a4ac0504-a389-48b3-91ed-4d21c8d2c2e5 div.sk-parallel-item:only-child::after {width: 0;}#sk-a4ac0504-a389-48b3-91ed-4d21c8d2c2e5 div.sk-dashed-wrapped {border: 1px dashed gray;margin: 0 0.4em 0.5em 0.4em;box-sizing: border-box;padding-bottom: 0.4em;background-color: white;position: relative;}#sk-a4ac0504-a389-48b3-91ed-4d21c8d2c2e5 div.sk-label label {font-family: monospace;font-weight: bold;background-color: white;display: inline-block;line-height: 1.2em;}#sk-a4ac0504-a389-48b3-91ed-4d21c8d2c2e5 div.sk-label-container {position: relative;z-index: 2;text-align: center;}#sk-a4ac0504-a389-48b3-91ed-4d21c8d2c2e5 div.sk-container {/* jupyter's `normalize.less` sets `[hidden] { display: none; }` but bootstrap.min.css set `[hidden] { display: none !important; }` so we also need the `!important` here to be able to override the default hidden behavior on the sphinx rendered scikit-learn.org. See: https://github.com/scikit-learn/scikit-learn/issues/21755 */display: inline-block !important;position: relative;}#sk-a4ac0504-a389-48b3-91ed-4d21c8d2c2e5 div.sk-text-repr-fallback {display: none;}</style><div id=\"sk-a4ac0504-a389-48b3-91ed-4d21c8d2c2e5\" class=\"sk-top-container\"><div class=\"sk-text-repr-fallback\"><pre>Pipeline(steps=[(&#x27;linear&#x27;, TfidfVectorizer(max_df=0.7, stop_words=&#x27;english&#x27;)),\n",
       "                (&#x27;xgb_clf&#x27;,\n",
       "                 XGBClassifier(base_score=0.5, booster=&#x27;gbtree&#x27;,\n",
       "                               colsample_bylevel=1, colsample_bynode=1,\n",
       "                               colsample_bytree=1, enable_categorical=False,\n",
       "                               gamma=3, gpu_id=-1, importance_type=None,\n",
       "                               interaction_constraints=&#x27;&#x27;, learning_rate=0.05,\n",
       "                               max_delta_step=0, max_depth=10,\n",
       "                               min_child_weight=1, missing=nan,\n",
       "                               monotone_constraints=&#x27;()&#x27;, n_estimators=100,\n",
       "                               n_jobs=6, num_parallel_tree=1, predictor=&#x27;auto&#x27;,\n",
       "                               random_state=0, reg_alpha=0, reg_lambda=1,\n",
       "                               scale_pos_weight=1, subsample=1,\n",
       "                               tree_method=&#x27;exact&#x27;, validate_parameters=1,\n",
       "                               verbosity=None))])</pre><b>Please rerun this cell to show the HTML repr or trust the notebook.</b></div><div class=\"sk-container\" hidden><div class=\"sk-item sk-dashed-wrapped\"><div class=\"sk-label-container\"><div class=\"sk-label sk-toggleable\"><input class=\"sk-toggleable__control sk-hidden--visually\" id=\"60b672b8-e220-45a5-ba55-30f7abf711ef\" type=\"checkbox\" ><label for=\"60b672b8-e220-45a5-ba55-30f7abf711ef\" class=\"sk-toggleable__label sk-toggleable__label-arrow\">Pipeline</label><div class=\"sk-toggleable__content\"><pre>Pipeline(steps=[(&#x27;linear&#x27;, TfidfVectorizer(max_df=0.7, stop_words=&#x27;english&#x27;)),\n",
       "                (&#x27;xgb_clf&#x27;,\n",
       "                 XGBClassifier(base_score=0.5, booster=&#x27;gbtree&#x27;,\n",
       "                               colsample_bylevel=1, colsample_bynode=1,\n",
       "                               colsample_bytree=1, enable_categorical=False,\n",
       "                               gamma=3, gpu_id=-1, importance_type=None,\n",
       "                               interaction_constraints=&#x27;&#x27;, learning_rate=0.05,\n",
       "                               max_delta_step=0, max_depth=10,\n",
       "                               min_child_weight=1, missing=nan,\n",
       "                               monotone_constraints=&#x27;()&#x27;, n_estimators=100,\n",
       "                               n_jobs=6, num_parallel_tree=1, predictor=&#x27;auto&#x27;,\n",
       "                               random_state=0, reg_alpha=0, reg_lambda=1,\n",
       "                               scale_pos_weight=1, subsample=1,\n",
       "                               tree_method=&#x27;exact&#x27;, validate_parameters=1,\n",
       "                               verbosity=None))])</pre></div></div></div><div class=\"sk-serial\"><div class=\"sk-item\"><div class=\"sk-estimator sk-toggleable\"><input class=\"sk-toggleable__control sk-hidden--visually\" id=\"eca379ce-37d1-4360-9059-339e73d92998\" type=\"checkbox\" ><label for=\"eca379ce-37d1-4360-9059-339e73d92998\" class=\"sk-toggleable__label sk-toggleable__label-arrow\">TfidfVectorizer</label><div class=\"sk-toggleable__content\"><pre>TfidfVectorizer(max_df=0.7, stop_words=&#x27;english&#x27;)</pre></div></div></div><div class=\"sk-item\"><div class=\"sk-estimator sk-toggleable\"><input class=\"sk-toggleable__control sk-hidden--visually\" id=\"093c9172-7eeb-46c4-a2df-af1ef32953f2\" type=\"checkbox\" ><label for=\"093c9172-7eeb-46c4-a2df-af1ef32953f2\" class=\"sk-toggleable__label sk-toggleable__label-arrow\">XGBClassifier</label><div class=\"sk-toggleable__content\"><pre>XGBClassifier(base_score=0.5, booster=&#x27;gbtree&#x27;, colsample_bylevel=1,\n",
       "              colsample_bynode=1, colsample_bytree=1, enable_categorical=False,\n",
       "              gamma=3, gpu_id=-1, importance_type=None,\n",
       "              interaction_constraints=&#x27;&#x27;, learning_rate=0.05, max_delta_step=0,\n",
       "              max_depth=10, min_child_weight=1, missing=nan,\n",
       "              monotone_constraints=&#x27;()&#x27;, n_estimators=100, n_jobs=6,\n",
       "              num_parallel_tree=1, predictor=&#x27;auto&#x27;, random_state=0,\n",
       "              reg_alpha=0, reg_lambda=1, scale_pos_weight=1, subsample=1,\n",
       "              tree_method=&#x27;exact&#x27;, validate_parameters=1, verbosity=None)</pre></div></div></div></div></div></div></div>"
      ],
      "text/plain": [
       "Pipeline(steps=[('linear', TfidfVectorizer(max_df=0.7, stop_words='english')),\n",
       "                ('xgb_clf',\n",
       "                 XGBClassifier(base_score=0.5, booster='gbtree',\n",
       "                               colsample_bylevel=1, colsample_bynode=1,\n",
       "                               colsample_bytree=1, enable_categorical=False,\n",
       "                               gamma=3, gpu_id=-1, importance_type=None,\n",
       "                               interaction_constraints='', learning_rate=0.05,\n",
       "                               max_delta_step=0, max_depth=10,\n",
       "                               min_child_weight=1, missing=nan,\n",
       "                               monotone_constraints='()', n_estimators=100,\n",
       "                               n_jobs=6, num_parallel_tree=1, predictor='auto',\n",
       "                               random_state=0, reg_alpha=0, reg_lambda=1,\n",
       "                               scale_pos_weight=1, subsample=1,\n",
       "                               tree_method='exact', validate_parameters=1,\n",
       "                               verbosity=None))])"
      ]
     },
     "execution_count": 30,
     "metadata": {},
     "output_type": "execute_result"
    }
   ],
   "source": [
    "import xgboost as xgb\n",
    "model_xgbc=xgb.XGBClassifier(learning_rate=0.05,max_depth=10,gamma=3)\n",
    "linear_xgbc=Pipeline([('linear',tfidf_vectorizer),('xgb_clf',model_xgbc)])\n",
    "linear_xgbc.fit(x_train,y_train)"
   ]
  },
  {
   "cell_type": "code",
   "execution_count": 31,
   "id": "b7baa104",
   "metadata": {},
   "outputs": [
    {
     "data": {
      "text/plain": [
       "0.8973954222573007"
      ]
     },
     "execution_count": 31,
     "metadata": {},
     "output_type": "execute_result"
    }
   ],
   "source": [
    "pred_xgbc=linear_xgbc.predict(x_test)\n",
    "accuracy_score(pred_xgbc,y_test)"
   ]
  },
  {
   "cell_type": "code",
   "execution_count": 32,
   "id": "03416f4a",
   "metadata": {},
   "outputs": [
    {
     "name": "stdout",
     "output_type": "stream",
     "text": [
      "              precision    recall  f1-score   support\n",
      "\n",
      "        FAKE       0.89      0.90      0.89       608\n",
      "        REAL       0.91      0.89      0.90       659\n",
      "\n",
      "    accuracy                           0.90      1267\n",
      "   macro avg       0.90      0.90      0.90      1267\n",
      "weighted avg       0.90      0.90      0.90      1267\n",
      "\n"
     ]
    }
   ],
   "source": [
    "print(metrics.classification_report(y_test,pred_xgbc))"
   ]
  },
  {
   "cell_type": "code",
   "execution_count": 35,
   "id": "97284c94",
   "metadata": {},
   "outputs": [
    {
     "data": {
      "text/html": [
       "<style>#sk-8e5914b1-5056-498b-9984-2f62186046c7 {color: black;background-color: white;}#sk-8e5914b1-5056-498b-9984-2f62186046c7 pre{padding: 0;}#sk-8e5914b1-5056-498b-9984-2f62186046c7 div.sk-toggleable {background-color: white;}#sk-8e5914b1-5056-498b-9984-2f62186046c7 label.sk-toggleable__label {cursor: pointer;display: block;width: 100%;margin-bottom: 0;padding: 0.3em;box-sizing: border-box;text-align: center;}#sk-8e5914b1-5056-498b-9984-2f62186046c7 label.sk-toggleable__label-arrow:before {content: \"▸\";float: left;margin-right: 0.25em;color: #696969;}#sk-8e5914b1-5056-498b-9984-2f62186046c7 label.sk-toggleable__label-arrow:hover:before {color: black;}#sk-8e5914b1-5056-498b-9984-2f62186046c7 div.sk-estimator:hover label.sk-toggleable__label-arrow:before {color: black;}#sk-8e5914b1-5056-498b-9984-2f62186046c7 div.sk-toggleable__content {max-height: 0;max-width: 0;overflow: hidden;text-align: left;background-color: #f0f8ff;}#sk-8e5914b1-5056-498b-9984-2f62186046c7 div.sk-toggleable__content pre {margin: 0.2em;color: black;border-radius: 0.25em;background-color: #f0f8ff;}#sk-8e5914b1-5056-498b-9984-2f62186046c7 input.sk-toggleable__control:checked~div.sk-toggleable__content {max-height: 200px;max-width: 100%;overflow: auto;}#sk-8e5914b1-5056-498b-9984-2f62186046c7 input.sk-toggleable__control:checked~label.sk-toggleable__label-arrow:before {content: \"▾\";}#sk-8e5914b1-5056-498b-9984-2f62186046c7 div.sk-estimator input.sk-toggleable__control:checked~label.sk-toggleable__label {background-color: #d4ebff;}#sk-8e5914b1-5056-498b-9984-2f62186046c7 div.sk-label input.sk-toggleable__control:checked~label.sk-toggleable__label {background-color: #d4ebff;}#sk-8e5914b1-5056-498b-9984-2f62186046c7 input.sk-hidden--visually {border: 0;clip: rect(1px 1px 1px 1px);clip: rect(1px, 1px, 1px, 1px);height: 1px;margin: -1px;overflow: hidden;padding: 0;position: absolute;width: 1px;}#sk-8e5914b1-5056-498b-9984-2f62186046c7 div.sk-estimator {font-family: monospace;background-color: #f0f8ff;border: 1px dotted black;border-radius: 0.25em;box-sizing: border-box;margin-bottom: 0.5em;}#sk-8e5914b1-5056-498b-9984-2f62186046c7 div.sk-estimator:hover {background-color: #d4ebff;}#sk-8e5914b1-5056-498b-9984-2f62186046c7 div.sk-parallel-item::after {content: \"\";width: 100%;border-bottom: 1px solid gray;flex-grow: 1;}#sk-8e5914b1-5056-498b-9984-2f62186046c7 div.sk-label:hover label.sk-toggleable__label {background-color: #d4ebff;}#sk-8e5914b1-5056-498b-9984-2f62186046c7 div.sk-serial::before {content: \"\";position: absolute;border-left: 1px solid gray;box-sizing: border-box;top: 2em;bottom: 0;left: 50%;}#sk-8e5914b1-5056-498b-9984-2f62186046c7 div.sk-serial {display: flex;flex-direction: column;align-items: center;background-color: white;padding-right: 0.2em;padding-left: 0.2em;}#sk-8e5914b1-5056-498b-9984-2f62186046c7 div.sk-item {z-index: 1;}#sk-8e5914b1-5056-498b-9984-2f62186046c7 div.sk-parallel {display: flex;align-items: stretch;justify-content: center;background-color: white;}#sk-8e5914b1-5056-498b-9984-2f62186046c7 div.sk-parallel::before {content: \"\";position: absolute;border-left: 1px solid gray;box-sizing: border-box;top: 2em;bottom: 0;left: 50%;}#sk-8e5914b1-5056-498b-9984-2f62186046c7 div.sk-parallel-item {display: flex;flex-direction: column;position: relative;background-color: white;}#sk-8e5914b1-5056-498b-9984-2f62186046c7 div.sk-parallel-item:first-child::after {align-self: flex-end;width: 50%;}#sk-8e5914b1-5056-498b-9984-2f62186046c7 div.sk-parallel-item:last-child::after {align-self: flex-start;width: 50%;}#sk-8e5914b1-5056-498b-9984-2f62186046c7 div.sk-parallel-item:only-child::after {width: 0;}#sk-8e5914b1-5056-498b-9984-2f62186046c7 div.sk-dashed-wrapped {border: 1px dashed gray;margin: 0 0.4em 0.5em 0.4em;box-sizing: border-box;padding-bottom: 0.4em;background-color: white;position: relative;}#sk-8e5914b1-5056-498b-9984-2f62186046c7 div.sk-label label {font-family: monospace;font-weight: bold;background-color: white;display: inline-block;line-height: 1.2em;}#sk-8e5914b1-5056-498b-9984-2f62186046c7 div.sk-label-container {position: relative;z-index: 2;text-align: center;}#sk-8e5914b1-5056-498b-9984-2f62186046c7 div.sk-container {/* jupyter's `normalize.less` sets `[hidden] { display: none; }` but bootstrap.min.css set `[hidden] { display: none !important; }` so we also need the `!important` here to be able to override the default hidden behavior on the sphinx rendered scikit-learn.org. See: https://github.com/scikit-learn/scikit-learn/issues/21755 */display: inline-block !important;position: relative;}#sk-8e5914b1-5056-498b-9984-2f62186046c7 div.sk-text-repr-fallback {display: none;}</style><div id=\"sk-8e5914b1-5056-498b-9984-2f62186046c7\" class=\"sk-top-container\"><div class=\"sk-text-repr-fallback\"><pre>Pipeline(steps=[(&#x27;linear&#x27;, TfidfVectorizer(max_df=0.7, stop_words=&#x27;english&#x27;)),\n",
       "                (&#x27;b_clf&#x27;, BernoulliNB())])</pre><b>Please rerun this cell to show the HTML repr or trust the notebook.</b></div><div class=\"sk-container\" hidden><div class=\"sk-item sk-dashed-wrapped\"><div class=\"sk-label-container\"><div class=\"sk-label sk-toggleable\"><input class=\"sk-toggleable__control sk-hidden--visually\" id=\"c6ea7aea-d717-479d-ad54-6375449e1df9\" type=\"checkbox\" ><label for=\"c6ea7aea-d717-479d-ad54-6375449e1df9\" class=\"sk-toggleable__label sk-toggleable__label-arrow\">Pipeline</label><div class=\"sk-toggleable__content\"><pre>Pipeline(steps=[(&#x27;linear&#x27;, TfidfVectorizer(max_df=0.7, stop_words=&#x27;english&#x27;)),\n",
       "                (&#x27;b_clf&#x27;, BernoulliNB())])</pre></div></div></div><div class=\"sk-serial\"><div class=\"sk-item\"><div class=\"sk-estimator sk-toggleable\"><input class=\"sk-toggleable__control sk-hidden--visually\" id=\"7e2f410f-7ff4-4ae8-b902-44094c67c6da\" type=\"checkbox\" ><label for=\"7e2f410f-7ff4-4ae8-b902-44094c67c6da\" class=\"sk-toggleable__label sk-toggleable__label-arrow\">TfidfVectorizer</label><div class=\"sk-toggleable__content\"><pre>TfidfVectorizer(max_df=0.7, stop_words=&#x27;english&#x27;)</pre></div></div></div><div class=\"sk-item\"><div class=\"sk-estimator sk-toggleable\"><input class=\"sk-toggleable__control sk-hidden--visually\" id=\"d839820a-21d1-4b4f-94f4-0ec45ab6a41d\" type=\"checkbox\" ><label for=\"d839820a-21d1-4b4f-94f4-0ec45ab6a41d\" class=\"sk-toggleable__label sk-toggleable__label-arrow\">BernoulliNB</label><div class=\"sk-toggleable__content\"><pre>BernoulliNB()</pre></div></div></div></div></div></div></div>"
      ],
      "text/plain": [
       "Pipeline(steps=[('linear', TfidfVectorizer(max_df=0.7, stop_words='english')),\n",
       "                ('b_clf', BernoulliNB())])"
      ]
     },
     "execution_count": 35,
     "metadata": {},
     "output_type": "execute_result"
    }
   ],
   "source": [
    "from sklearn.naive_bayes import BernoulliNB\n",
    "linear_b=Pipeline([('linear',tfidf_vectorizer),('b_clf',BernoulliNB())])\n",
    "linear_b.fit(x_train,y_train)"
   ]
  },
  {
   "cell_type": "code",
   "execution_count": 36,
   "id": "b931aa31",
   "metadata": {},
   "outputs": [
    {
     "data": {
      "text/plain": [
       "0.8208366219415943"
      ]
     },
     "execution_count": 36,
     "metadata": {},
     "output_type": "execute_result"
    }
   ],
   "source": [
    "pred_b=linear_b.predict(x_test)\n",
    "accuracy_score(pred_b,y_test)"
   ]
  },
  {
   "cell_type": "code",
   "execution_count": 37,
   "id": "234e2b04",
   "metadata": {},
   "outputs": [
    {
     "name": "stdout",
     "output_type": "stream",
     "text": [
      "              precision    recall  f1-score   support\n",
      "\n",
      "        FAKE       0.91      0.76      0.83       725\n",
      "        REAL       0.74      0.90      0.81       542\n",
      "\n",
      "    accuracy                           0.82      1267\n",
      "   macro avg       0.82      0.83      0.82      1267\n",
      "weighted avg       0.84      0.82      0.82      1267\n",
      "\n"
     ]
    }
   ],
   "source": [
    "linear_b,print(metrics.classification_report(pred_b,y_test))"
   ]
  },
  {
   "cell_type": "code",
   "execution_count": 41,
   "id": "c711dbd5",
   "metadata": {},
   "outputs": [
    {
     "name": "stderr",
     "output_type": "stream",
     "text": [
      "D:\\anaconda3\\lib\\site-packages\\sklearn\\utils\\deprecation.py:87: FutureWarning: Function plot_confusion_matrix is deprecated; Function `plot_confusion_matrix` is deprecated in 1.0 and will be removed in 1.2. Use one of the class methods: ConfusionMatrixDisplay.from_predictions or ConfusionMatrixDisplay.from_estimator.\n",
      "  warnings.warn(msg, category=FutureWarning)\n"
     ]
    },
    {
     "data": {
      "text/plain": [
       "<sklearn.metrics._plot.confusion_matrix.ConfusionMatrixDisplay at 0x1df7a835e50>"
      ]
     },
     "execution_count": 41,
     "metadata": {},
     "output_type": "execute_result"
    },
    {
     "data": {
      "image/png": "[encoded data removed]",
      "text/plain": [
       "<Figure size 432x288 with 2 Axes>"
      ]
     },
     "metadata": {
      "needs_background": "light"
     },
     "output_type": "display_data"
    }
   ],
   "source": [
    "plot_confusion_matrix(linear_b,x_test,y_test)"
   ]
  },
  {
   "cell_type": "code",
   "execution_count": null,
   "id": "00d89a69",
   "metadata": {},
   "outputs": [],
   "source": []
  }
 ],
 "metadata": {
  "kernelspec": {
   "display_name": "Python 3 (ipykernel)",
   "language": "python",
   "name": "python3"
  },
  "language_info": {
   "codemirror_mode": {
    "name": "ipython",
    "version": 3
   },
   "file_extension": ".py",
   "mimetype": "text/x-python",
   "name": "python",
   "nbconvert_exporter": "python",
   "pygments_lexer": "ipython3",
   "version": "3.9.7"
  }
 },
 "nbformat": 4,
 "nbformat_minor": 5
}
